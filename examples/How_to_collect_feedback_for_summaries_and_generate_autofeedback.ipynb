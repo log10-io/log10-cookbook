{
  "cells": [
    {
      "cell_type": "markdown",
      "metadata": {
        "id": "LzVbRVrdkWS1"
      },
      "source": [
        "# Summary grading - Example for setting up feedback task with Log10"
      ]
    },
    {
      "cell_type": "markdown",
      "metadata": {
        "id": "kV4Ne_TUkhGB"
      },
      "source": [
        "## Install dependencies"
      ]
    },
    {
      "cell_type": "code",
      "execution_count": 1,
      "metadata": {
        "colab": {
          "base_uri": "https://localhost:8080/"
        },
        "id": "FCM6Ieuxor2Q",
        "outputId": "5dc0ef0e-6a59-44f8-b238-43aef31cbad2"
      },
      "outputs": [
        {
          "name": "stdout",
          "output_type": "stream",
          "text": [
            "Requirement already satisfied: openai in /usr/local/lib/python3.10/dist-packages (1.31.0)\n",
            "Requirement already satisfied: anyio<5,>=3.5.0 in /usr/local/lib/python3.10/dist-packages (from openai) (3.7.1)\n",
            "Requirement already satisfied: distro<2,>=1.7.0 in /usr/lib/python3/dist-packages (from openai) (1.7.0)\n",
            "Requirement already satisfied: httpx<1,>=0.23.0 in /usr/local/lib/python3.10/dist-packages (from openai) (0.27.0)\n",
            "Requirement already satisfied: pydantic<3,>=1.9.0 in /usr/local/lib/python3.10/dist-packages (from openai) (2.7.2)\n",
            "Requirement already satisfied: sniffio in /usr/local/lib/python3.10/dist-packages (from openai) (1.3.1)\n",
            "Requirement already satisfied: tqdm>4 in /usr/local/lib/python3.10/dist-packages (from openai) (4.66.4)\n",
            "Requirement already satisfied: typing-extensions<5,>=4.7 in /usr/local/lib/python3.10/dist-packages (from openai) (4.12.0)\n",
            "Requirement already satisfied: idna>=2.8 in /usr/local/lib/python3.10/dist-packages (from anyio<5,>=3.5.0->openai) (3.7)\n",
            "Requirement already satisfied: exceptiongroup in /usr/local/lib/python3.10/dist-packages (from anyio<5,>=3.5.0->openai) (1.2.1)\n",
            "Requirement already satisfied: certifi in /usr/local/lib/python3.10/dist-packages (from httpx<1,>=0.23.0->openai) (2024.2.2)\n",
            "Requirement already satisfied: httpcore==1.* in /usr/local/lib/python3.10/dist-packages (from httpx<1,>=0.23.0->openai) (1.0.5)\n",
            "Requirement already satisfied: h11<0.15,>=0.13 in /usr/local/lib/python3.10/dist-packages (from httpcore==1.*->httpx<1,>=0.23.0->openai) (0.14.0)\n",
            "Requirement already satisfied: annotated-types>=0.4.0 in /usr/local/lib/python3.10/dist-packages (from pydantic<3,>=1.9.0->openai) (0.7.0)\n",
            "Requirement already satisfied: pydantic-core==2.18.3 in /usr/local/lib/python3.10/dist-packages (from pydantic<3,>=1.9.0->openai) (2.18.3)\n",
            "Collecting git+https://github.com/log10-io/log10.git@main\n",
            "  Cloning https://github.com/log10-io/log10.git (to revision main) to /tmp/pip-req-build-7px850k5\n",
            "  Running command git clone --filter=blob:none --quiet https://github.com/log10-io/log10.git /tmp/pip-req-build-7px850k5\n",
            "  Resolved https://github.com/log10-io/log10.git to commit 59a22e5ac21ce1264e7109146370932c122b0a71\n",
            "  Installing build dependencies ... \u001b[?25l\u001b[?25hdone\n",
            "  Getting requirements to build wheel ... \u001b[?25l\u001b[?25hdone\n",
            "  Preparing metadata (pyproject.toml) ... \u001b[?25l\u001b[?25hdone\n",
            "Collecting anthropic<1 (from log10-io==0.8.6)\n",
            "  Downloading anthropic-0.28.0-py3-none-any.whl (862 kB)\n",
            "\u001b[2K     \u001b[90m━━━━━━━━━━━━━━━━━━━━━━━━━━━━━━━━━━━━━━━━\u001b[0m \u001b[32m862.7/862.7 kB\u001b[0m \u001b[31m12.9 MB/s\u001b[0m eta \u001b[36m0:00:00\u001b[0m\n",
            "\u001b[?25hCollecting backoff<3.0.0,>=2.2.1 (from log10-io==0.8.6)\n",
            "  Downloading backoff-2.2.1-py3-none-any.whl (15 kB)\n",
            "Requirement already satisfied: google-cloud-bigquery<4.0.0,>=3.11.4 in /usr/local/lib/python3.10/dist-packages (from log10-io==0.8.6) (3.21.0)\n",
            "Requirement already satisfied: openai<2 in /usr/local/lib/python3.10/dist-packages (from log10-io==0.8.6) (1.31.0)\n",
            "Requirement already satisfied: pandas>=2 in /usr/local/lib/python3.10/dist-packages (from log10-io==0.8.6) (2.0.3)\n",
            "Requirement already satisfied: python-dotenv<2.0.0,>=1.0.0 in /usr/local/lib/python3.10/dist-packages (from log10-io==0.8.6) (1.0.1)\n",
            "Requirement already satisfied: requests<3.0.0,>=2.31.0 in /usr/local/lib/python3.10/dist-packages (from log10-io==0.8.6) (2.31.0)\n",
            "Requirement already satisfied: anyio<5,>=3.5.0 in /usr/local/lib/python3.10/dist-packages (from anthropic<1->log10-io==0.8.6) (3.7.1)\n",
            "Requirement already satisfied: distro<2,>=1.7.0 in /usr/lib/python3/dist-packages (from anthropic<1->log10-io==0.8.6) (1.7.0)\n",
            "Requirement already satisfied: httpx<1,>=0.23.0 in /usr/local/lib/python3.10/dist-packages (from anthropic<1->log10-io==0.8.6) (0.27.0)\n",
            "Collecting jiter<1,>=0.4.0 (from anthropic<1->log10-io==0.8.6)\n",
            "  Downloading jiter-0.4.1-cp310-cp310-manylinux_2_17_x86_64.manylinux2014_x86_64.whl (328 kB)\n",
            "\u001b[2K     \u001b[90m━━━━━━━━━━━━━━━━━━━━━━━━━━━━━━━━━━━━━━━━\u001b[0m \u001b[32m328.3/328.3 kB\u001b[0m \u001b[31m27.6 MB/s\u001b[0m eta \u001b[36m0:00:00\u001b[0m\n",
            "\u001b[?25hRequirement already satisfied: pydantic<3,>=1.9.0 in /usr/local/lib/python3.10/dist-packages (from anthropic<1->log10-io==0.8.6) (2.7.2)\n",
            "Requirement already satisfied: sniffio in /usr/local/lib/python3.10/dist-packages (from anthropic<1->log10-io==0.8.6) (1.3.1)\n",
            "Requirement already satisfied: tokenizers>=0.13.0 in /usr/local/lib/python3.10/dist-packages (from anthropic<1->log10-io==0.8.6) (0.19.1)\n",
            "Requirement already satisfied: typing-extensions<5,>=4.7 in /usr/local/lib/python3.10/dist-packages (from anthropic<1->log10-io==0.8.6) (4.12.0)\n",
            "Requirement already satisfied: google-api-core[grpc]!=2.0.*,!=2.1.*,!=2.10.*,!=2.2.*,!=2.3.*,!=2.4.*,!=2.5.*,!=2.6.*,!=2.7.*,!=2.8.*,!=2.9.*,<3.0.0dev,>=1.34.1 in /usr/local/lib/python3.10/dist-packages (from google-cloud-bigquery<4.0.0,>=3.11.4->log10-io==0.8.6) (2.11.1)\n",
            "Requirement already satisfied: google-auth<3.0.0dev,>=2.14.1 in /usr/local/lib/python3.10/dist-packages (from google-cloud-bigquery<4.0.0,>=3.11.4->log10-io==0.8.6) (2.27.0)\n",
            "Requirement already satisfied: google-cloud-core<3.0.0dev,>=1.6.0 in /usr/local/lib/python3.10/dist-packages (from google-cloud-bigquery<4.0.0,>=3.11.4->log10-io==0.8.6) (2.3.3)\n",
            "Requirement already satisfied: google-resumable-media<3.0dev,>=0.6.0 in /usr/local/lib/python3.10/dist-packages (from google-cloud-bigquery<4.0.0,>=3.11.4->log10-io==0.8.6) (2.7.0)\n",
            "Requirement already satisfied: packaging>=20.0.0 in /usr/local/lib/python3.10/dist-packages (from google-cloud-bigquery<4.0.0,>=3.11.4->log10-io==0.8.6) (24.0)\n",
            "Requirement already satisfied: python-dateutil<3.0dev,>=2.7.2 in /usr/local/lib/python3.10/dist-packages (from google-cloud-bigquery<4.0.0,>=3.11.4->log10-io==0.8.6) (2.8.2)\n",
            "Requirement already satisfied: tqdm>4 in /usr/local/lib/python3.10/dist-packages (from openai<2->log10-io==0.8.6) (4.66.4)\n",
            "Requirement already satisfied: pytz>=2020.1 in /usr/local/lib/python3.10/dist-packages (from pandas>=2->log10-io==0.8.6) (2023.4)\n",
            "Requirement already satisfied: tzdata>=2022.1 in /usr/local/lib/python3.10/dist-packages (from pandas>=2->log10-io==0.8.6) (2024.1)\n",
            "Requirement already satisfied: numpy>=1.21.0 in /usr/local/lib/python3.10/dist-packages (from pandas>=2->log10-io==0.8.6) (1.25.2)\n",
            "Requirement already satisfied: charset-normalizer<4,>=2 in /usr/local/lib/python3.10/dist-packages (from requests<3.0.0,>=2.31.0->log10-io==0.8.6) (3.3.2)\n",
            "Requirement already satisfied: idna<4,>=2.5 in /usr/local/lib/python3.10/dist-packages (from requests<3.0.0,>=2.31.0->log10-io==0.8.6) (3.7)\n",
            "Requirement already satisfied: urllib3<3,>=1.21.1 in /usr/local/lib/python3.10/dist-packages (from requests<3.0.0,>=2.31.0->log10-io==0.8.6) (2.0.7)\n",
            "Requirement already satisfied: certifi>=2017.4.17 in /usr/local/lib/python3.10/dist-packages (from requests<3.0.0,>=2.31.0->log10-io==0.8.6) (2024.2.2)\n",
            "Requirement already satisfied: exceptiongroup in /usr/local/lib/python3.10/dist-packages (from anyio<5,>=3.5.0->anthropic<1->log10-io==0.8.6) (1.2.1)\n",
            "Requirement already satisfied: googleapis-common-protos<2.0.dev0,>=1.56.2 in /usr/local/lib/python3.10/dist-packages (from google-api-core[grpc]!=2.0.*,!=2.1.*,!=2.10.*,!=2.2.*,!=2.3.*,!=2.4.*,!=2.5.*,!=2.6.*,!=2.7.*,!=2.8.*,!=2.9.*,<3.0.0dev,>=1.34.1->google-cloud-bigquery<4.0.0,>=3.11.4->log10-io==0.8.6) (1.63.0)\n",
            "Requirement already satisfied: protobuf!=3.20.0,!=3.20.1,!=4.21.0,!=4.21.1,!=4.21.2,!=4.21.3,!=4.21.4,!=4.21.5,<5.0.0.dev0,>=3.19.5 in /usr/local/lib/python3.10/dist-packages (from google-api-core[grpc]!=2.0.*,!=2.1.*,!=2.10.*,!=2.2.*,!=2.3.*,!=2.4.*,!=2.5.*,!=2.6.*,!=2.7.*,!=2.8.*,!=2.9.*,<3.0.0dev,>=1.34.1->google-cloud-bigquery<4.0.0,>=3.11.4->log10-io==0.8.6) (3.20.3)\n",
            "Requirement already satisfied: grpcio<2.0dev,>=1.33.2 in /usr/local/lib/python3.10/dist-packages (from google-api-core[grpc]!=2.0.*,!=2.1.*,!=2.10.*,!=2.2.*,!=2.3.*,!=2.4.*,!=2.5.*,!=2.6.*,!=2.7.*,!=2.8.*,!=2.9.*,<3.0.0dev,>=1.34.1->google-cloud-bigquery<4.0.0,>=3.11.4->log10-io==0.8.6) (1.64.0)\n",
            "Requirement already satisfied: grpcio-status<2.0.dev0,>=1.33.2 in /usr/local/lib/python3.10/dist-packages (from google-api-core[grpc]!=2.0.*,!=2.1.*,!=2.10.*,!=2.2.*,!=2.3.*,!=2.4.*,!=2.5.*,!=2.6.*,!=2.7.*,!=2.8.*,!=2.9.*,<3.0.0dev,>=1.34.1->google-cloud-bigquery<4.0.0,>=3.11.4->log10-io==0.8.6) (1.48.2)\n",
            "Requirement already satisfied: cachetools<6.0,>=2.0.0 in /usr/local/lib/python3.10/dist-packages (from google-auth<3.0.0dev,>=2.14.1->google-cloud-bigquery<4.0.0,>=3.11.4->log10-io==0.8.6) (5.3.3)\n",
            "Requirement already satisfied: pyasn1-modules>=0.2.1 in /usr/local/lib/python3.10/dist-packages (from google-auth<3.0.0dev,>=2.14.1->google-cloud-bigquery<4.0.0,>=3.11.4->log10-io==0.8.6) (0.4.0)\n",
            "Requirement already satisfied: rsa<5,>=3.1.4 in /usr/local/lib/python3.10/dist-packages (from google-auth<3.0.0dev,>=2.14.1->google-cloud-bigquery<4.0.0,>=3.11.4->log10-io==0.8.6) (4.9)\n",
            "Requirement already satisfied: google-crc32c<2.0dev,>=1.0 in /usr/local/lib/python3.10/dist-packages (from google-resumable-media<3.0dev,>=0.6.0->google-cloud-bigquery<4.0.0,>=3.11.4->log10-io==0.8.6) (1.5.0)\n",
            "Requirement already satisfied: httpcore==1.* in /usr/local/lib/python3.10/dist-packages (from httpx<1,>=0.23.0->anthropic<1->log10-io==0.8.6) (1.0.5)\n",
            "Requirement already satisfied: h11<0.15,>=0.13 in /usr/local/lib/python3.10/dist-packages (from httpcore==1.*->httpx<1,>=0.23.0->anthropic<1->log10-io==0.8.6) (0.14.0)\n",
            "Requirement already satisfied: annotated-types>=0.4.0 in /usr/local/lib/python3.10/dist-packages (from pydantic<3,>=1.9.0->anthropic<1->log10-io==0.8.6) (0.7.0)\n",
            "Requirement already satisfied: pydantic-core==2.18.3 in /usr/local/lib/python3.10/dist-packages (from pydantic<3,>=1.9.0->anthropic<1->log10-io==0.8.6) (2.18.3)\n",
            "Requirement already satisfied: six>=1.5 in /usr/local/lib/python3.10/dist-packages (from python-dateutil<3.0dev,>=2.7.2->google-cloud-bigquery<4.0.0,>=3.11.4->log10-io==0.8.6) (1.16.0)\n",
            "Requirement already satisfied: huggingface-hub<1.0,>=0.16.4 in /usr/local/lib/python3.10/dist-packages (from tokenizers>=0.13.0->anthropic<1->log10-io==0.8.6) (0.23.2)\n",
            "Requirement already satisfied: filelock in /usr/local/lib/python3.10/dist-packages (from huggingface-hub<1.0,>=0.16.4->tokenizers>=0.13.0->anthropic<1->log10-io==0.8.6) (3.14.0)\n",
            "Requirement already satisfied: fsspec>=2023.5.0 in /usr/local/lib/python3.10/dist-packages (from huggingface-hub<1.0,>=0.16.4->tokenizers>=0.13.0->anthropic<1->log10-io==0.8.6) (2023.6.0)\n",
            "Requirement already satisfied: pyyaml>=5.1 in /usr/local/lib/python3.10/dist-packages (from huggingface-hub<1.0,>=0.16.4->tokenizers>=0.13.0->anthropic<1->log10-io==0.8.6) (6.0.1)\n",
            "Requirement already satisfied: pyasn1<0.7.0,>=0.4.6 in /usr/local/lib/python3.10/dist-packages (from pyasn1-modules>=0.2.1->google-auth<3.0.0dev,>=2.14.1->google-cloud-bigquery<4.0.0,>=3.11.4->log10-io==0.8.6) (0.6.0)\n",
            "Building wheels for collected packages: log10-io\n",
            "  Building wheel for log10-io (pyproject.toml) ... \u001b[?25l\u001b[?25hdone\n",
            "  Created wheel for log10-io: filename=log10_io-0.8.6-py3-none-any.whl size=55680 sha256=a5959b101ff19d7843c8b3ab006f9ff9985e3b498d73ec1af8395fa64369a05c\n",
            "  Stored in directory: /tmp/pip-ephem-wheel-cache-9r_r1l05/wheels/57/ce/fe/e7d31105ba139a9772858d5c7fcaff7a5cf22002214c58dbac\n",
            "Successfully built log10-io\n",
            "Installing collected packages: jiter, backoff, anthropic, log10-io\n",
            "Successfully installed anthropic-0.28.0 backoff-2.2.1 jiter-0.4.1 log10-io-0.8.6\n",
            "Requirement already satisfied: magentic in /usr/local/lib/python3.10/dist-packages (0.26.0)\n",
            "Requirement already satisfied: filetype in /usr/local/lib/python3.10/dist-packages (from magentic) (1.2.0)\n",
            "Requirement already satisfied: openai>=1.26.0 in /usr/local/lib/python3.10/dist-packages (from magentic) (1.31.0)\n",
            "Requirement already satisfied: pydantic>=2.0.0 in /usr/local/lib/python3.10/dist-packages (from magentic) (2.7.2)\n",
            "Requirement already satisfied: pydantic-settings>=2.0.0 in /usr/local/lib/python3.10/dist-packages (from magentic) (2.3.0)\n",
            "Requirement already satisfied: anyio<5,>=3.5.0 in /usr/local/lib/python3.10/dist-packages (from openai>=1.26.0->magentic) (3.7.1)\n",
            "Requirement already satisfied: distro<2,>=1.7.0 in /usr/lib/python3/dist-packages (from openai>=1.26.0->magentic) (1.7.0)\n",
            "Requirement already satisfied: httpx<1,>=0.23.0 in /usr/local/lib/python3.10/dist-packages (from openai>=1.26.0->magentic) (0.27.0)\n",
            "Requirement already satisfied: sniffio in /usr/local/lib/python3.10/dist-packages (from openai>=1.26.0->magentic) (1.3.1)\n",
            "Requirement already satisfied: tqdm>4 in /usr/local/lib/python3.10/dist-packages (from openai>=1.26.0->magentic) (4.66.4)\n",
            "Requirement already satisfied: typing-extensions<5,>=4.7 in /usr/local/lib/python3.10/dist-packages (from openai>=1.26.0->magentic) (4.12.0)\n",
            "Requirement already satisfied: annotated-types>=0.4.0 in /usr/local/lib/python3.10/dist-packages (from pydantic>=2.0.0->magentic) (0.7.0)\n",
            "Requirement already satisfied: pydantic-core==2.18.3 in /usr/local/lib/python3.10/dist-packages (from pydantic>=2.0.0->magentic) (2.18.3)\n",
            "Requirement already satisfied: python-dotenv>=0.21.0 in /usr/local/lib/python3.10/dist-packages (from pydantic-settings>=2.0.0->magentic) (1.0.1)\n",
            "Requirement already satisfied: idna>=2.8 in /usr/local/lib/python3.10/dist-packages (from anyio<5,>=3.5.0->openai>=1.26.0->magentic) (3.7)\n",
            "Requirement already satisfied: exceptiongroup in /usr/local/lib/python3.10/dist-packages (from anyio<5,>=3.5.0->openai>=1.26.0->magentic) (1.2.1)\n",
            "Requirement already satisfied: certifi in /usr/local/lib/python3.10/dist-packages (from httpx<1,>=0.23.0->openai>=1.26.0->magentic) (2024.2.2)\n",
            "Requirement already satisfied: httpcore==1.* in /usr/local/lib/python3.10/dist-packages (from httpx<1,>=0.23.0->openai>=1.26.0->magentic) (1.0.5)\n",
            "Requirement already satisfied: h11<0.15,>=0.13 in /usr/local/lib/python3.10/dist-packages (from httpcore==1.*->httpx<1,>=0.23.0->openai>=1.26.0->magentic) (0.14.0)\n"
          ]
        }
      ],
      "source": [
        "!pip install openai\n",
        "#!pip install -U log10-io\n",
        "!pip install -U git+https://github.com/log10-io/log10.git@main\n",
        "!pip install magentic"
      ]
    },
    {
      "cell_type": "markdown",
      "metadata": {
        "id": "YE13OiXskxPd"
      },
      "source": [
        "### Set up keys as env vars"
      ]
    },
    {
      "cell_type": "code",
      "execution_count": 2,
      "metadata": {
        "id": "APG1v0k9wkxe"
      },
      "outputs": [],
      "source": [
        "import os\n",
        "os.environ[\"OPENAI_API_KEY\"] = \"\" #replace with your key\n",
        "\n",
        "os.environ[\"LOG10_URL\"]=\"https://log10.io\"\n",
        "os.environ[\"LOG10_ORG_ID\"]=\"\" #replace with your credentials from Log10\n",
        "os.environ[\"LOG10_TOKEN\"]=\"\" #replace with your token from Log10"
      ]
    },
    {
      "cell_type": "code",
      "execution_count": 3,
      "metadata": {
        "id": "Mt3wC8uf9Uyu"
      },
      "outputs": [],
      "source": [
        "import asyncio\n",
        "import openai\n",
        "from magentic import AsyncStreamedStr, chatprompt, SystemMessage, UserMessage\n",
        "import uuid\n",
        "\n",
        "from log10.load import log10, log10_session\n",
        "log10(openai) #One line patch to enable logging"
      ]
    },
    {
      "cell_type": "code",
      "execution_count": 4,
      "metadata": {
        "id": "QLFQkduMbVpL"
      },
      "outputs": [],
      "source": [
        "# Tag selector below is used for:\n",
        "# 1) Selecting which logs to show in the Feedback inbox in the GUI\n",
        "# 2) Tagging new logs/completions to attach feedback to\n",
        "# 3) Matching new logs/completions on which AutoFeedback needs to run\n",
        "task_tag_selector = \"summary-grading-cnndm-SDK-test-20240604\""
      ]
    },
    {
      "cell_type": "markdown",
      "metadata": {
        "id": "dKv9p_DYlKrV"
      },
      "source": [
        "## Create task"
      ]
    },
    {
      "cell_type": "code",
      "execution_count": 5,
      "metadata": {
        "id": "vDo1aG9wRS4P"
      },
      "outputs": [],
      "source": [
        "from log10.feedback.feedback import Feedback\n",
        "from log10.feedback.feedback_task import FeedbackTask\n",
        "\n",
        "'''\n",
        "This task schema is very general and flexible.\n",
        "It can be used to construct forms that are composed of numerical scores,\n",
        "emojis (e.g. 👍,👎), free text (comments, corrections) etc.\n",
        "Below is an example for a summary grading task using the rubric from the\n",
        "\"Learning to Summarize with Human Feedback\" (2020) paper.\n",
        "https://arxiv.org/pdf/2009.01325 - pg 23, Table 7\n",
        "\n",
        "The `completion_tags_selector` field is used for --\n",
        "1) Selecting which logs to show in the Feedback inbox in the GUI\n",
        "2) AutoFeedback matching\n",
        "'''\n",
        "task = FeedbackTask().create(\n",
        "    name=\"Summary grading task - live demo\",\n",
        "    task_schema={\n",
        "        \"$schema\": \"http://json-schema.org/draft-07/schema#\",\n",
        "        \"title\": \"Summary Evaluation\",\n",
        "        \"description\": \"Evaluates the quality of a summary based on four key aspects: Relevance, Coherence, Consistency, and Fluency.\",\n",
        "        \"type\": \"object\",\n",
        "        \"properties\": {\n",
        "            \"Coherence\": {\n",
        "                \"type\": \"integer\",\n",
        "                \"minimum\": 1,\n",
        "                \"maximum\": 7,\n",
        "                \"description\": \"\"\"Coherence\n",
        "For this axis, answer the question “how coherent is the summary on its own?” A summary is\n",
        "coherent if, when read by itself, it’s easy to understand and free of English errors. A summary is\n",
        "not coherent if it’s difficult to understand what the summary is trying to say. Generally, it’s more\n",
        "important that the summary is understandable than it being free of grammar errors.\n",
        "Rubric:\n",
        "Score of 1: The summary is impossible to understand.\n",
        "Score of 4: The summary has mistakes or confusing phrasing that make it a bit hard to understand.\n",
        "Score of 7: The summary is perfectly clear.\"\"\",\n",
        "            },\n",
        "            \"Accuracy\": {\n",
        "                \"type\": \"integer\",\n",
        "                \"minimum\": 1,\n",
        "                \"maximum\": 7,\n",
        "                \"description\": \"\"\"Accuracy\n",
        "For this axis, answer the question “does the factual information in the summary accurately match\n",
        "the post?” A summary is accurate if it doesn’t say things that aren’t in the article, it doesn’t mix up\n",
        "people, and generally is not misleading. If the summary says anything at all that is not mentioned\n",
        "in the post or contradicts something in the post, it should be given a maximum score of 5. (If you\n",
        "are confused about how to use ‘6’, see the FAQ!)\n",
        "Rubric:\n",
        "Score of 1: The summary is completely wrong, made up, or exactly contradicts what is written in\n",
        "the post.\n",
        "Score of 4: The summary says at least one substantial thing that is not mentioned in the post, or\n",
        "that contradicts something in the post.\n",
        "(Score of 5: The summary says anything, no matter how small, that is not mentioned in the post,\n",
        "or that contradicts something in the post.)\n",
        "Score of 7: The summary has no incorrect statements or misleading implications.\"\"\",\n",
        "            },\n",
        "            \"Coverage\": {\n",
        "                \"type\": \"integer\",\n",
        "                \"minimum\": 1,\n",
        "                \"maximum\": 7,\n",
        "                \"description\": \"\"\"Coverage\n",
        "For this axis, answer the question “how well does the summary cover the important information\n",
        "in the post?” A summary has good coverage if it mentions the main information from the post\n",
        "that’s important to understand the situation described in the post. A summary has poor coverage if\n",
        "someone reading only the summary would be missing several important pieces of information\n",
        "about the situation in the post. A summary with good coverage should also match the purpose of\n",
        "the original post (e.g. to ask for advice).\n",
        "Rubric:\n",
        "Score of 1: The summary contains no information relevant to the post.\n",
        "Score of 4: The summary is missing at least 1 important piece of information required to understand the situation.\n",
        "Score of 7: The summary covers all of the important information required to understand the\n",
        "situation.\n",
        "\"\"\",\n",
        "            },\n",
        "            \"Overall\": {\n",
        "                \"type\": \"integer\",\n",
        "                \"minimum\": 1,\n",
        "                \"maximum\": 7,\n",
        "                \"description\": \"\"\"Overall quality\n",
        "For this axis, answer the question “how good is the summary overall at representing the post?”\n",
        "This can encompass all of the above axes of quality, as well as others you feel are important. If\n",
        "it’s hard to find ways to make the summary better, give the summary a high score. If there are lots\n",
        "of different ways the summary can be made better, give the summary a low score.\n",
        "Rubric:\n",
        "Score of 1: The summary is terrible.\n",
        "Score of 4: The summary is an okay representation of the post, but could be significantly improved.\n",
        "Score of 7: The summary is an excellent representation of the post.\n",
        "\"\"\",\n",
        "            },\n",
        "        },\n",
        "        \"required\": [\"Coherence\", \"Accuracy\", \"Coverage\", \"Overall\"],\n",
        "    },\n",
        "    completion_tags_selector=[task_tag_selector], # 1) Selecting which logs to show in the Feedback inbox in the GUI (and use for AutoFeedback matching)\n",
        "    instruction=\"\"\"You are an evaluator of summaries of articles on reddit. You are tasked with grading the summaries for accuracy, coherence, coverage and overall.\n",
        "\n",
        "Coherence\n",
        "For this axis, answer the question “how coherent is the summary on its own?” A summary is\n",
        "coherent if, when read by itself, it’s easy to understand and free of English errors. A summary is\n",
        "not coherent if it’s difficult to understand what the summary is trying to say. Generally, it’s more\n",
        "important that the summary is understandable than it being free of grammar errors.\n",
        "Rubric:\n",
        "Score of 1: The summary is impossible to understand.\n",
        "Score of 4: The summary has mistakes or confusing phrasing that make it a bit hard to understand.\n",
        "Score of 7: The summary is perfectly clear.\n",
        "\n",
        "Accuracy\n",
        "For this axis, answer the question “does the factual information in the summary accurately match\n",
        "the post?” A summary is accurate if it doesn’t say things that aren’t in the article, it doesn’t mix up\n",
        "people, and generally is not misleading. If the summary says anything at all that is not mentioned\n",
        "in the post or contradicts something in the post, it should be given a maximum score of 5. (If you\n",
        "are confused about how to use ‘6’, see the FAQ!)\n",
        "Rubric:\n",
        "Score of 1: The summary is completely wrong, made up, or exactly contradicts what is written in\n",
        "the post.\n",
        "Score of 4: The summary says at least one substantial thing that is not mentioned in the post, or\n",
        "that contradicts something in the post.\n",
        "(Score of 5: The summary says anything, no matter how small, that is not mentioned in the post,\n",
        "or that contradicts something in the post.)\n",
        "Score of 7: The summary has no incorrect statements or misleading implications.\n",
        "\n",
        "Coverage\n",
        "For this axis, answer the question “how well does the summary cover the important information\n",
        "in the post?” A summary has good coverage if it mentions the main information from the post\n",
        "that’s important to understand the situation described in the post. A summary has poor coverage if\n",
        "someone reading only the summary would be missing several important pieces of information\n",
        "about the situation in the post. A summary with good coverage should also match the purpose of\n",
        "the original post (e.g. to ask for advice).\n",
        "Rubric:\n",
        "Score of 1: The summary contains no information relevant to the post.\n",
        "Score of 4: The summary is missing at least 1 important piece of information required to understand the situation.\n",
        "Score of 7: The summary covers all of the important information required to understand the\n",
        "situation.\n",
        "\n",
        "Overall quality\n",
        "For this axis, answer the question “how good is the summary overall at representing the post?”\n",
        "This can encompass all of the above axes of quality, as well as others you feel are important. If\n",
        "it’s hard to find ways to make the summary better, give the summary a high score. If there are lots\n",
        "of different ways the summary can be made better, give the summary a low score.\n",
        "Rubric:\n",
        "Score of 1: The summary is terrible.\n",
        "Score of 4: The summary is an okay representation of the post, but could be significantly improved.\n",
        "Score of 7: The summary is an excellent representation of the post.\"\"\",\n",
        ")"
      ]
    },
    {
      "cell_type": "markdown",
      "metadata": {
        "id": "UcJkfN4BlP9_"
      },
      "source": [
        "### Test prompt for generating the summary"
      ]
    },
    {
      "cell_type": "code",
      "execution_count": 6,
      "metadata": {
        "id": "JjuPlZXwrlNp"
      },
      "outputs": [],
      "source": [
        "@chatprompt(\n",
        "    SystemMessage(\"Create a concise summary of the following article\"),\n",
        "    UserMessage(\" {article}. \\n\\n\\\n",
        "Aim to make the summary perfectly clear (coherent), \\\n",
        "with no incorrect statements or misleading implications (accurate), \\\n",
        "covering all the important information required to understand the situation (high coverage) \\\n",
        "and an excellent representation of the post (high quality).\")\n",
        ")\n",
        "async def create_message(article: str) -> AsyncStreamedStr:  # ruff: ignore\n",
        "  ...\n",
        "\n",
        "# Sync version of above prompt\n",
        "@chatprompt(\n",
        "    SystemMessage(\"Create a concise summary of the following article\"),\n",
        "    UserMessage(\" {article}. \\n\\n\\\n",
        "Aim to make the summary perfectly clear (coherent), \\\n",
        "with no incorrect statements or misleading implications (accurate), \\\n",
        "covering all the important information required to understand the situation (high coverage) \\\n",
        "and an excellent representation of the post (high quality).\")\n",
        ")\n",
        "def create_sync_message(article: str) -> str:  # ruff: ignore\n",
        "  ...\n"
      ]
    },
    {
      "cell_type": "markdown",
      "metadata": {
        "id": "zvl2jjqKl3DN"
      },
      "source": [
        "## SDK/API -- Generate Example 1"
      ]
    },
    {
      "cell_type": "code",
      "execution_count": 7,
      "metadata": {
        "colab": {
          "base_uri": "https://localhost:8080/"
        },
        "id": "cr89Fmpjf2Ph",
        "outputId": "59c0c56b-3132-4e9a-e50d-a2549bef4af3"
      },
      "outputs": [
        {
          "name": "stdout",
          "output_type": "stream",
          "text": [
            "Newcastle United's interim captain Moussa Sissoko is facing internal disciplinary action after being sent off for a reckless challenge on Liverpool's Lucas Leiva during a 2-0 defeat at Anfield. Sissoko received a second yellow card, which head coach John Carver believed should have been a straight red. Sissoko, who now faces a two-match ban, acknowledged his mistake and apologized to Lucas. Carver emphasized the need for improved discipline, particularly from team leaders. Additionally, Newcastle, currently suffering from a five-match losing streak and just nine points above the relegation zone, cannot rely on the poor performances of other teams to secure their Premier League status. Carver stressed the importance of winning upcoming home games against Tottenham Hotspur and Swansea to avoid relegation fears."
          ]
        }
      ],
      "source": [
        "uuid_str = str(uuid.uuid4())\n",
        "\n",
        "async def main():\n",
        "  # Example 1\n",
        "  article = \"\"\"Newcastle stand-in skipper Moussa Sissoko is facing disciplinary action after he was sent off following a reckless challenge on Liverpool midfielder Lucas Leiva during Monday's 2-0 defeat at Anfield.\\n\\nThe France international was given a second yellow card for the offence, but head coach John Carver feels it should have been a straight red.\\n\\n'The club will deal with that situation,' he said when asked if Sissoko - who is now banned for two matches - would be punished.\\n\\nLiverpool midfielder Lucas Leiva clutches his leg after Moussa Sissoko's tackle at Anfield\\n\\nSissoko hands the captain's armband to boss John Carver as he leaves the pitch after being sent off\\n\\n'He knows he was wrong. He was fortunate not to get a straight red and he agreed with me.\\n\\n'He apologised afterwards to Lucas, which was important.\\n\\n'But you think captains would lead by example. We have to improve our discipline. I will be looking at that.'\\n\\nMeanwhile, Carver says Newcastle cannot rely on the shortcomings of others to preserve their Premier League status.\\n\\nThe Magpies are the division's most out-of-form side having lost five on the spin, scoring just one goal along the way.\\n\\nLiverpool's players surround Lucas following Sissoko's dangerous tackle during Monday night's game\\n\\nRaheem Sterling bends the ball past Tim Krul to open the scoring in Liverpool's 2-0 win against Newcastle\\n\\nThey are nine points clear of danger with six matches to play, but Carver says it's about time they started helping themselves, starting with Sunday's visit of Spurs.\\n\\n'These two home games (Spurs followed by Swansea) are massive for us. I'm not bothered about performances, we need results,' he said.\\n\\n'I'm not worrying about that (relegation) at the moment, and the good thing is we have four games at home.\\n\\n'But we need to start winning now. We can't rely on others teams. We can't afford to ease off, I have always said that.\\n\\n'We have gone through a rough spell. It's down to me now to get players in right frame of mind.'\\n\\nNewcastle's players appear dejected as Joe Allen celebrates scoring Liverpool's second goal at Anfield\"\"\"\n",
        "\n",
        "  with log10_session(tags=[task_tag_selector, uuid_str]): # remember to use unique uuid here to be able to assign the feedback in the next step\n",
        "      output = await create_message(article)\n",
        "      async for chunk in output:\n",
        "          print(chunk, end=\"\", flush=True)\n",
        "\n",
        "\n",
        "await main()"
      ]
    },
    {
      "cell_type": "markdown",
      "metadata": {
        "id": "kxfLMaM3l6S3"
      },
      "source": [
        "### Assign Feedback on Example 1 via SDK/API"
      ]
    },
    {
      "cell_type": "code",
      "execution_count": null,
      "metadata": {
        "colab": {
          "base_uri": "https://localhost:8080/"
        },
        "id": "TB0rF4bpTTW5",
        "outputId": "646293be-4ecd-478e-ddeb-cbc5c3747627"
      },
      "outputs": [
        {
          "data": {
            "text/plain": [
              "<Response [200 OK]>"
            ]
          },
          "execution_count": 8,
          "metadata": {},
          "output_type": "execute_result"
        }
      ],
      "source": [
        "task_id = task.json()[\"id\"]\n",
        "\n",
        "\n",
        "Feedback().create(\n",
        "    task_id=task_id,\n",
        "    values={            #Dummy ratings\n",
        "        \"Overall\": 7,\n",
        "        \"Accuracy\": 6,\n",
        "        \"Coverage\": 7,\n",
        "        \"Coherence\": 6,\n",
        "        },\n",
        "    completion_tags_selector=[uuid_str, task_tag_selector], # 2) Tagging new logs/completions to attach feedback to\n",
        "    comment=\"Misleading: \\\"Carver admits he is only concerned with results and not performances\\\" understood as if critics of monday's match but it's said for the following matches.\\n\\n13th??\\n\\nDoesnt properly address the teams, the match, the result, 2nd yellow card and therefore sent off, etc.\"\n",
        ")"
      ]
    },
    {
      "cell_type": "markdown",
      "metadata": {
        "id": "YrkNuOl_l_q1"
      },
      "source": [
        "## UI -- Generate Example 2"
      ]
    },
    {
      "cell_type": "code",
      "execution_count": null,
      "metadata": {
        "colab": {
          "base_uri": "https://localhost:8080/"
        },
        "id": "AmGe_R95f3qn",
        "outputId": "efb33964-27ed-4f4b-9ecb-5205dc0f5d12"
      },
      "outputs": [
        {
          "name": "stdout",
          "output_type": "stream",
          "text": [
            "More than 70,000 people globally have signed a petition demanding McDonald's remove metal spikes outside a Leeds city centre branch, which critics claim are intended to deter the homeless from sleeping there. McDonald's defends the spikes, installed two years ago, stating they aim to prevent anti-social behavior, not target the homeless. The petition, initiated by Isobella DeMartino, argues the spikes demonstrate a lack of compassion for the homeless, leading to international support for their removal. McDonald's maintains that the spikes were introduced following police consultation to address anti-social issues, not to drive away homeless individuals."
          ]
        }
      ],
      "source": [
        "uuid_str = str(uuid.uuid4())\n",
        "\n",
        "async def main():\n",
        "  # Example 2\n",
        "  article = \"\"\"More than 70,000 people across the world have signed a petition demanding McDonald's remove spikes that deter the homeless from sleeping outside one of its restaurants.\\n\\nThe fast food giant has caused fury after installing metal studs outside its branch in Leeds city centre, which critics say are there to stop people  sleeping rough.\\n\\nMcDonald's has defended the use of the spikes, claiming they were installed two years ago in an attempt to stop anti-social behaviour, not target the homeless.\\n\\nUproar: A petition has been started to get the spikes removed from outside this Leeds McDonald's and 70,000 have backed the campaign\\n\\nBut critics say they have been put in because they are uncomfortable to sleep on and installed on areas which used to be benches.\\n\\nIsobella DeMartino set up the petition to have them removed and has received support from across the globe. \\n\\nRow: Critics say the spikes were installed to target the homeless but McDonald's say it is only about anti-social behaviour\\n\\n'Anti-homeless spikes show complete disregard and lack of respect for homeless people who struggle every day,' she said.\\n\\n'Spikes have been installed, presumably to prevent people sleeping there.\\n\\n'The fact that the spikes exist shows how little people care about homeless people.'\\n\\nShe added: 'Every time I'm in Leeds I see many ignore homeless people, not even bothering to smile at them let alone try to help them or give charity. I cannot imagine how painful and lonely it must be to be homeless.\\n\\n'They deserve our attention and care, this issue cannot be ignored.'\\n\\nA spokeswoman for McDonald's said: 'The studs in question are not an 'anti- homeless' measure, as has been suggested.\\n\\n'They have been in place for around two years and were introduced Following discussions with the police, in response to issues we were experiencing with antisocial behaviour.\\n\\n'We welcome all customers through our doors and it is inaccurate to suggest a measure taken in response to tackling antisocial behaviour, is an attempt to deter homeless people.'\"\"\"\n",
        "\n",
        "  with log10_session(tags=[task_tag_selector, uuid_str]):\n",
        "      output = await create_message(article)\n",
        "      async for chunk in output:\n",
        "          print(chunk, end=\"\", flush=True)\n",
        "\n",
        "\n",
        "await main()"
      ]
    },
    {
      "cell_type": "markdown",
      "metadata": {
        "id": "Gd_k2XOjcsrM"
      },
      "source": [
        "### Assign Feedback via the UI\n",
        "1. Log in to your log10.io account\n",
        "2. Navigate to the Feedback tab in the left side panel\n",
        "3. You should see the above example in the inbox. Click on it to assign feedback via the UI"
      ]
    },
    {
      "cell_type": "markdown",
      "metadata": {
        "id": "z_AFG_USfs4H"
      },
      "source": [
        "## Local AutoFeedback -- Generate Example 3"
      ]
    },
    {
      "cell_type": "code",
      "execution_count": null,
      "metadata": {
        "id": "adcwuDL5fnaS"
      },
      "outputs": [],
      "source": [
        "uuid_str = str(uuid.uuid4())\n",
        "last_completion_url = \"init\"\n",
        "\n",
        "#Using sync version for now to be able to get last_completion_url and extract the completion_id\n",
        "# Example 3\n",
        "article = \"\"\"A humble wooden deckchair recovered from the doomed Titanic has sold for \\u00a3100,350 at auction.\\n\\nThe Nantucket wooden chair, which once sat on a first-class promenade of the ill-fated ship, was salvaged by a search team from the Atlantic Ocean after the Titanic sank in 1912. \\n\\nDubbed 'one of the rarest types of Titanic collectable', the chair is too fragile to sit on, but has been carefully preserved, having been owned by a British collector for the past 15 years.\\n\\nA 103-year-old deckchair recovered from the wreck of the Titanic is expected sold for \\u00a3100,000 at auction\\n\\nThe ship's log records six or seven deckchairs being picked up and taken back to port in Halifax, Nova Scotia.\\n\\nOne was given by a crew member to Captain Julien Lemarteleur, who had previously worked on board the Mackay-Bennett. \\n\\nThe anonymous seller kept it by a large window overlooking the sea at his home on the south coast, never sat on it due to its fragile state and instead used it as a display item. \\n\\nIt was sold yesterday at Henry Aldridge and Son auction house in Devizes, Wiltshire, to a UK buyer. \\n\\nAndrew Aldridge, of auctioneers Henry Aldridge and Son, described the piece as one of 'the most important [bits] of Titanic memorabilia around'.  \\n\\nHe said: 'It is incredibly rare to find something of that size that was on Titanic, was salvaged and that still exists today.\\n\\nSix or seven recovered deckchairs were stacked on the deck of the Mackay-Bennett as it arrived in Nova Scotia\\n\\nTitanic (above) sank with the loss of 1,522 lives four hours after it struck on iceberg at 10.20pm on April 14\\n\\nIt has a five pointed star on top of it, which was the emblem of White Star Line - the company that owned the Titanic\\n\\nHe said that he was 'very, very pleased' with the price.\\n\\nThe chair is made of teak wood and has an adjustable footrest at the front. It is 57 inches long, 23 inches wide and 35 inches tall.\\n\\nIt has a five pointed star on top of it, which was the emblem of White Star Line - the company that owned the Titanic. \\n\\nUpon his death in 1973, Capt Lemarteleur gave the chair to colleague Captain Robin Lee. The current owner acquired it in 2001.\\n\\nSold with the chair was an in depth 'provenance package' that authenticates history and association with Titanic.\\n\\nCaptain Julien Lemarteleur (above), who collected the chair from the Mackay-Bennett more than 100 years ago\\n\\nIt includes a signed affidavit from Margarete Pennington, who was Mr Lemarteleur's housekeeper in the 1960s.\\n\\nIn it she states: 'I personally saw the deckchair that Captain Lemarteleur told me about on many occasions. He said that various pieces of debris taken from the ocean including this Titanic deckchair he acquired.\\n\\n'I recognise the chair as the same chair I saw in the captain's garage and of which the captain identified as coming from the Titanic.'\\n\\nCraig Sopin, 57, a lawyer from Philadelphia, owns one of the world's largest collections of Titanic memorabilia.\\n\\nHe also authenticated the chair and said: 'It isn't often that one has the opportunity to acquire such an important part of Titanic's story.\\n\\n'For such a significant item to have such a meticulous chain of custody is nothing short of astonishing. Its history can be traced from the auction house back to Titanic itself.'\\n\\nTitanic sank with the loss of 1,522 lives four hours after it struck on iceberg at 10.20pm on April 14.\\n\\nA ship, the Carpathia, picked up more than 700 survivors in lifeboats hours later and took them back to New York.\\n\\nWhite Star Line chartered four ships, including the Halifax-based cable-laying vessel the Mackay-Bennett, to recover the bodies.\"\"\"\n",
        "\n",
        "with log10_session(tags=[task_tag_selector, uuid_str]) as session:\n",
        "    response = create_sync_message(article)\n",
        "    print(response)\n",
        "    last_completion_url = session.last_completion_url()\n",
        "    print(last_completion_url)\n",
        "\n",
        "completion_id = last_completion_url.split(\"/\")[-1]"
      ]
    },
    {
      "cell_type": "code",
      "execution_count": null,
      "metadata": {
        "id": "SR9rdKzwAUlA"
      },
      "outputs": [],
      "source": [
        "print(completion_id)"
      ]
    },
    {
      "cell_type": "code",
      "execution_count": null,
      "metadata": {
        "id": "qQQulXW9nW4V"
      },
      "outputs": [],
      "source": [
        "# # async way\n",
        "\n",
        "# uuid_str = str(uuid.uuid4())\n",
        "# last_completion_url = \"init\"\n",
        "\n",
        "# async def main():\n",
        "#   # Example 3\n",
        "#   article = \"That cat ran over the mouse\" # for quick testing\n",
        "\n",
        "#   with log10_session(tags=[task_tag_selector, uuid_str]):\n",
        "#       output = await create_message(article)\n",
        "#       async for chunk in output:\n",
        "#           print(chunk, end=\"\", flush=True)\n",
        "#       global last_completion_url\n",
        "#       last_completion_url = session.last_completion_url()\n",
        "\n",
        "# await main()\n",
        "\n",
        "#article = \"\"\"A humble wooden deckchair recovered from the doomed Titanic has sold for \\u00a3100,350 at auction.\\n\\nThe Nantucket wooden chair, which once sat on a first-class promenade of the ill-fated ship, was salvaged by a search team from the Atlantic Ocean after the Titanic sank in 1912. \\n\\nDubbed 'one of the rarest types of Titanic collectable', the chair is too fragile to sit on, but has been carefully preserved, having been owned by a British collector for the past 15 years.\\n\\nA 103-year-old deckchair recovered from the wreck of the Titanic is expected sold for \\u00a3100,000 at auction\\n\\nThe ship's log records six or seven deckchairs being picked up and taken back to port in Halifax, Nova Scotia.\\n\\nOne was given by a crew member to Captain Julien Lemarteleur, who had previously worked on board the Mackay-Bennett. \\n\\nThe anonymous seller kept it by a large window overlooking the sea at his home on the south coast, never sat on it due to its fragile state and instead used it as a display item. \\n\\nIt was sold yesterday at Henry Aldridge and Son auction house in Devizes, Wiltshire, to a UK buyer. \\n\\nAndrew Aldridge, of auctioneers Henry Aldridge and Son, described the piece as one of 'the most important [bits] of Titanic memorabilia around'.  \\n\\nHe said: 'It is incredibly rare to find something of that size that was on Titanic, was salvaged and that still exists today.\\n\\nSix or seven recovered deckchairs were stacked on the deck of the Mackay-Bennett as it arrived in Nova Scotia\\n\\nTitanic (above) sank with the loss of 1,522 lives four hours after it struck on iceberg at 10.20pm on April 14\\n\\nIt has a five pointed star on top of it, which was the emblem of White Star Line - the company that owned the Titanic\\n\\nHe said that he was 'very, very pleased' with the price.\\n\\nThe chair is made of teak wood and has an adjustable footrest at the front. It is 57 inches long, 23 inches wide and 35 inches tall.\\n\\nIt has a five pointed star on top of it, which was the emblem of White Star Line - the company that owned the Titanic. \\n\\nUpon his death in 1973, Capt Lemarteleur gave the chair to colleague Captain Robin Lee. The current owner acquired it in 2001.\\n\\nSold with the chair was an in depth 'provenance package' that authenticates history and association with Titanic.\\n\\nCaptain Julien Lemarteleur (above), who collected the chair from the Mackay-Bennett more than 100 years ago\\n\\nIt includes a signed affidavit from Margarete Pennington, who was Mr Lemarteleur's housekeeper in the 1960s.\\n\\nIn it she states: 'I personally saw the deckchair that Captain Lemarteleur told me about on many occasions. He said that various pieces of debris taken from the ocean including this Titanic deckchair he acquired.\\n\\n'I recognise the chair as the same chair I saw in the captain's garage and of which the captain identified as coming from the Titanic.'\\n\\nCraig Sopin, 57, a lawyer from Philadelphia, owns one of the world's largest collections of Titanic memorabilia.\\n\\nHe also authenticated the chair and said: 'It isn't often that one has the opportunity to acquire such an important part of Titanic's story.\\n\\n'For such a significant item to have such a meticulous chain of custody is nothing short of astonishing. Its history can be traced from the auction house back to Titanic itself.'\\n\\nTitanic sank with the loss of 1,522 lives four hours after it struck on iceberg at 10.20pm on April 14.\\n\\nA ship, the Carpathia, picked up more than 700 survivors in lifeboats hours later and took them back to New York.\\n\\nWhite Star Line chartered four ships, including the Halifax-based cable-laying vessel the Mackay-Bennett, to recover the bodies.\"\"\""
      ]
    },
    {
      "cell_type": "markdown",
      "metadata": {
        "id": "RjZxHvw0MaGU"
      },
      "source": [
        "### Use local AutoFeedback to assign Feedback"
      ]
    },
    {
      "cell_type": "code",
      "execution_count": null,
      "metadata": {
        "id": "VPyg5r2wMZQL"
      },
      "outputs": [],
      "source": [
        "from log10.feedback._summary_feedback_utils import flatten_messages, summary_feedback_llm_call\n",
        "from log10.feedback.autofeedback import AutoFeedbackICL\n",
        "\n",
        "num_few_shot_examples = 1 # recommend setting to 5\n",
        "\n",
        "# Setup AutoFeedbackICL\n",
        "auto_feedback_icl = AutoFeedbackICL(task_id, num_samples=num_few_shot_examples, predict_func=summary_feedback_llm_call)\n",
        "\n",
        "# Get completion_id to predict feedback on\n",
        "autofeedback_prediction = auto_feedback_icl.predict(completion_id=completion_id)\n",
        "\n",
        "print(autofeedback_prediction)\n"
      ]
    },
    {
      "cell_type": "code",
      "execution_count": null,
      "metadata": {
        "id": "W4UOTstICrY7"
      },
      "outputs": [],
      "source": [
        "import json\n",
        "\n",
        "# convert AutoFeedback to json\n",
        "af_pred = json.loads(autofeedback_prediction)\n",
        "print(af_pred[\"axes\"], af_pred[\"note\"])\n"
      ]
    },
    {
      "cell_type": "code",
      "execution_count": null,
      "metadata": {
        "id": "_caqoUj_Dyvg"
      },
      "outputs": [],
      "source": [
        "print(uuid_str, task_tag_selector)"
      ]
    },
    {
      "cell_type": "code",
      "execution_count": null,
      "metadata": {
        "id": "du9IkVdsCMIp"
      },
      "outputs": [],
      "source": [
        "# Use the above AutoFeedback to populate the feedback\n",
        "task_id = task.json()[\"id\"]\n",
        "\n",
        "Feedback().create(\n",
        "    task_id=task_id,\n",
        "    values={\n",
        "        \"Overall\": int(af_pred[\"axes\"][\"overall\"]),\n",
        "        \"Accuracy\": int(af_pred[\"axes\"][\"accuracy\"]),\n",
        "        \"Coverage\": int(af_pred[\"axes\"][\"coverage\"]),\n",
        "        \"Coherence\": int(af_pred[\"axes\"][\"coherence\"]),\n",
        "        },\n",
        "    completion_tags_selector=[uuid_str, task_tag_selector], # 2) Tagging new logs/completions to attach feedback to\n",
        "    comment=af_pred[\"note\"]\n",
        ")\n",
        "\n",
        "#This will appear in the Feedback stream on the Feedback tab"
      ]
    },
    {
      "cell_type": "markdown",
      "metadata": {
        "id": "Jh6z2hkzriKR"
      },
      "source": [
        "## Managed AutoFeedback -- Generate Example 4"
      ]
    },
    {
      "cell_type": "code",
      "execution_count": 8,
      "metadata": {
        "colab": {
          "base_uri": "https://localhost:8080/"
        },
        "id": "EOUthhHnrhob",
        "outputId": "21ddf0bc-b866-4080-d361-a704a6a088eb"
      },
      "outputs": [
        {
          "name": "stdout",
          "output_type": "stream",
          "text": [
            "A deckchair from the Titanic, recovered from the Atlantic after the ship sank in 1912, was sold for £100,350 at auction. This wooden deckchair, associated with the White Star Line logo and a first-class promenade, is considered one of the rarest types of Titanic memorabilia. The chair, too fragile to sit on, was meticulously preserved by a British collector for 15 years and sold at Henry Aldridge and Son auction house in Wiltshire to a UK buyer. The chair's provenance includes an authentication from Titanic memorabilia expert Craig Sopin and a signed affidavit detailing its history from Captain Julien Lemarteleur to Captain Robin Lee, and eventually to the current owner. The Titanic disaster resulted in the loss of 1,522 lives and the recovery operation involved the Mackay-Bennett, which brought back several deckchairs to Halifax, Nova Scotia.\n",
            "https://log10.io/app/af-demo/completions/6ef0afa2-57c8-4860-8505-1aa0cc2a7f79\n",
            "6ef0afa2-57c8-4860-8505-1aa0cc2a7f79\n"
          ]
        }
      ],
      "source": [
        "# Use Log10's managed AutoFeedback service to automatically assign feedback to new generations from the LLM\n",
        "uuid_str = str(uuid.uuid4())\n",
        "last_completion_url = \"init\"\n",
        "\n",
        "#Using sync version for now to be able to get last_completion_url and extract the completion_id\n",
        "# Example 3\n",
        "article = \"\"\"A humble wooden deckchair recovered from the doomed Titanic has sold for \\u00a3100,350 at auction.\\n\\nThe Nantucket wooden chair, which once sat on a first-class promenade of the ill-fated ship, was salvaged by a search team from the Atlantic Ocean after the Titanic sank in 1912. \\n\\nDubbed 'one of the rarest types of Titanic collectable', the chair is too fragile to sit on, but has been carefully preserved, having been owned by a British collector for the past 15 years.\\n\\nA 103-year-old deckchair recovered from the wreck of the Titanic is expected sold for \\u00a3100,000 at auction\\n\\nThe ship's log records six or seven deckchairs being picked up and taken back to port in Halifax, Nova Scotia.\\n\\nOne was given by a crew member to Captain Julien Lemarteleur, who had previously worked on board the Mackay-Bennett. \\n\\nThe anonymous seller kept it by a large window overlooking the sea at his home on the south coast, never sat on it due to its fragile state and instead used it as a display item. \\n\\nIt was sold yesterday at Henry Aldridge and Son auction house in Devizes, Wiltshire, to a UK buyer. \\n\\nAndrew Aldridge, of auctioneers Henry Aldridge and Son, described the piece as one of 'the most important [bits] of Titanic memorabilia around'.  \\n\\nHe said: 'It is incredibly rare to find something of that size that was on Titanic, was salvaged and that still exists today.\\n\\nSix or seven recovered deckchairs were stacked on the deck of the Mackay-Bennett as it arrived in Nova Scotia\\n\\nTitanic (above) sank with the loss of 1,522 lives four hours after it struck on iceberg at 10.20pm on April 14\\n\\nIt has a five pointed star on top of it, which was the emblem of White Star Line - the company that owned the Titanic\\n\\nHe said that he was 'very, very pleased' with the price.\\n\\nThe chair is made of teak wood and has an adjustable footrest at the front. It is 57 inches long, 23 inches wide and 35 inches tall.\\n\\nIt has a five pointed star on top of it, which was the emblem of White Star Line - the company that owned the Titanic. \\n\\nUpon his death in 1973, Capt Lemarteleur gave the chair to colleague Captain Robin Lee. The current owner acquired it in 2001.\\n\\nSold with the chair was an in depth 'provenance package' that authenticates history and association with Titanic.\\n\\nCaptain Julien Lemarteleur (above), who collected the chair from the Mackay-Bennett more than 100 years ago\\n\\nIt includes a signed affidavit from Margarete Pennington, who was Mr Lemarteleur's housekeeper in the 1960s.\\n\\nIn it she states: 'I personally saw the deckchair that Captain Lemarteleur told me about on many occasions. He said that various pieces of debris taken from the ocean including this Titanic deckchair he acquired.\\n\\n'I recognise the chair as the same chair I saw in the captain's garage and of which the captain identified as coming from the Titanic.'\\n\\nCraig Sopin, 57, a lawyer from Philadelphia, owns one of the world's largest collections of Titanic memorabilia.\\n\\nHe also authenticated the chair and said: 'It isn't often that one has the opportunity to acquire such an important part of Titanic's story.\\n\\n'For such a significant item to have such a meticulous chain of custody is nothing short of astonishing. Its history can be traced from the auction house back to Titanic itself.'\\n\\nTitanic sank with the loss of 1,522 lives four hours after it struck on iceberg at 10.20pm on April 14.\\n\\nA ship, the Carpathia, picked up more than 700 survivors in lifeboats hours later and took them back to New York.\\n\\nWhite Star Line chartered four ships, including the Halifax-based cable-laying vessel the Mackay-Bennett, to recover the bodies.\"\"\"\n",
        "\n",
        "with log10_session(tags=[task_tag_selector, uuid_str]) as session:\n",
        "    response = create_sync_message(article)\n",
        "    print(response)\n",
        "    last_completion_url = session.last_completion_url()\n",
        "    print(last_completion_url)\n",
        "\n",
        "completion_id = last_completion_url.split(\"/\")[-1]\n",
        "print(completion_id)"
      ]
    },
    {
      "cell_type": "markdown",
      "metadata": {
        "id": "5kxIGyli-F24"
      },
      "source": [
        "### Fetch feedback via cloud hosted / managed AutoFeedback"
      ]
    },
    {
      "cell_type": "code",
      "execution_count": 10,
      "metadata": {
        "colab": {
          "base_uri": "https://localhost:8080/"
        },
        "id": "ZVuXV1bK8f0Z",
        "outputId": "bcbaaccf-e15b-4d7e-910c-4e97fd837454"
      },
      "outputs": [
        {
          "name": "stdout",
          "output_type": "stream",
          "text": [
            "{'data': {'organization': {'completion': {'id': '6ef0afa2-57c8-4860-8505-1aa0cc2a7f79', 'autoFeedback': {'id': 'e7e57021-697c-4627-b244-854133783dab', 'status': None, 'jsonValues': {'Overall': 5, 'Accuracy': 5, 'Coverage': 4, 'Coherence': 7}, 'comment': 'The summary is clear and coherent, making it easy to understand. However, it misses important details from the original article such as the dimensions of the chair, its physical description (teak wood, adjustable footrest), and additional background on the auction and the chain of custody of the chair. This affects its coverage, as these elements provide a richer context about the chair\\'s significance and history. Additionally, there\\'s a small discrepancy in the accuracy; the article notes the chair was sold \"at Henry Aldridge and Son auction house in Devizes, Wiltshire,\" not just \"in Wiltshire.\" While this is minor, it\\'s enough to affect the accuracy rating. Overall, the summary is a decent representation but could be improved by incorporating more detailed information and correcting the location detail.'}}}}}\n"
          ]
        }
      ],
      "source": [
        "from log10.feedback.autofeedback import get_autofeedback\n",
        "import json\n",
        "\n",
        "af_pred = get_autofeedback(completion_id)\n",
        "print(af_pred)"
      ]
    },
    {
      "cell_type": "markdown",
      "metadata": {
        "id": "E_czbyn3dyUM"
      },
      "source": [
        "## Talk to us / Coming soon\n",
        "\n",
        "1. Get summary stats over feedback (human + AutoFeedback)\n",
        "2. Set up alerts over AutoFeedback\n",
        "3. Curate datasets for fine-tuning or prompt engineering to improve accuracy and customize per customer"
      ]
    }
  ],
  "metadata": {
    "colab": {
      "provenance": [],
      "toc_visible": true
    },
    "kernelspec": {
      "display_name": "Python 3",
      "name": "python3"
    },
    "language_info": {
      "name": "python"
    }
  },
  "nbformat": 4,
  "nbformat_minor": 0
}

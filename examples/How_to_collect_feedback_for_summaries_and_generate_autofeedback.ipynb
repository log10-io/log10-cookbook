{
  "cells": [
    {
      "cell_type": "markdown",
      "metadata": {
        "id": "LzVbRVrdkWS1"
      },
      "source": [
        "# Summary grading - Example for setting up feedback task with Log10"
      ]
    },
    {
      "cell_type": "markdown",
      "metadata": {
        "id": "kV4Ne_TUkhGB"
      },
      "source": [
        "## Install dependencies"
      ]
    },
    {
      "cell_type": "code",
      "execution_count": 31,
      "metadata": {
        "id": "FCM6Ieuxor2Q"
      },
      "outputs": [],
      "source": [
        "!pip install openai\n",
        "!pip install -U log10-io\n",
        "!pip install magentic"
      ]
    },
    {
      "cell_type": "markdown",
      "metadata": {
        "id": "YE13OiXskxPd"
      },
      "source": [
        "### Set up env vars"
      ]
    },
    {
      "cell_type": "code",
      "execution_count": 32,
      "metadata": {
        "id": "APG1v0k9wkxe"
      },
      "outputs": [],
      "source": [
        "import os\n",
        "os.environ[\"OPENAI_API_KEY\"] = \"\" #replace with your key\n",
        "\n",
        "os.environ[\"LOG10_URL\"]=\"https://log10.io\"\n",
        "os.environ[\"LOG10_ORG_ID\"]=\"\" #replace with your credentials from Log10\n",
        "os.environ[\"LOG10_TOKEN\"]=\"\" #replace with your token from Log10"
      ]
    },
    {
      "cell_type": "code",
      "execution_count": 33,
      "metadata": {
        "colab": {
          "base_uri": "https://localhost:8080/"
        },
        "id": "Mt3wC8uf9Uyu",
        "outputId": "3efbaa29-3ccb-443b-ee05-ebb3d57a017f"
      },
      "outputs": [
        {
          "name": "stderr",
          "output_type": "stream",
          "text": [
            "WARNING:LOG10:openai already patched. Skipping.\n"
          ]
        }
      ],
      "source": [
        "import asyncio\n",
        "import openai\n",
        "from magentic import AsyncStreamedStr, chatprompt, SystemMessage, UserMessage\n",
        "import uuid\n",
        "\n",
        "from log10.load import log10, log10_session, last_completion_response\n",
        "log10(openai)"
      ]
    },
    {
      "cell_type": "code",
      "execution_count": 34,
      "metadata": {
        "id": "QLFQkduMbVpL"
      },
      "outputs": [],
      "source": [
        "# Tag selector below is used for:\n",
        "# 1) Selecting which logs to show in the Feedback inbox in the GUI\n",
        "# 2) Tagging new logs/completions to attach feedback to\n",
        "task_tag_selector = \"summary-grading-cnndm-SDK-test-6\""
      ]
    },
    {
      "cell_type": "markdown",
      "metadata": {
        "id": "dKv9p_DYlKrV"
      },
      "source": [
        "## Create task"
      ]
    },
    {
      "cell_type": "code",
      "execution_count": 35,
      "metadata": {
        "id": "vDo1aG9wRS4P"
      },
      "outputs": [],
      "source": [
        "from log10.feedback.feedback import Feedback\n",
        "from log10.feedback.feedback_task import FeedbackTask\n",
        "\n",
        "task = FeedbackTask().create(\n",
        "    name=\"Summary grading task\",\n",
        "    task_schema={\n",
        "        \"$schema\": \"http://json-schema.org/draft-07/schema#\",\n",
        "        \"title\": \"Summary Evaluation\",\n",
        "        \"description\": \"Evaluates the quality of a summary based on four key aspects: Relevance, Coherence, Consistency, and Fluency.\",\n",
        "        \"type\": \"object\",\n",
        "        \"properties\": {\n",
        "            \"Coherence\": {\n",
        "                \"type\": \"integer\",\n",
        "                \"minimum\": 1,\n",
        "                \"maximum\": 7,\n",
        "                \"description\": \"\"\"Coherence\n",
        "For this axis, answer the question “how coherent is the summary on its own?” A summary is\n",
        "coherent if, when read by itself, it’s easy to understand and free of English errors. A summary is\n",
        "not coherent if it’s difficult to understand what the summary is trying to say. Generally, it’s more\n",
        "important that the summary is understandable than it being free of grammar errors.\n",
        "Rubric:\n",
        "Score of 1: The summary is impossible to understand.\n",
        "Score of 4: The summary has mistakes or confusing phrasing that make it a bit hard to understand.\n",
        "Score of 7: The summary is perfectly clear.\"\"\",\n",
        "            },\n",
        "            \"Accuracy\": {\n",
        "                \"type\": \"integer\",\n",
        "                \"minimum\": 1,\n",
        "                \"maximum\": 7,\n",
        "                \"description\": \"\"\"Accuracy\n",
        "For this axis, answer the question “does the factual information in the summary accurately match\n",
        "the post?” A summary is accurate if it doesn’t say things that aren’t in the article, it doesn’t mix up\n",
        "people, and generally is not misleading. If the summary says anything at all that is not mentioned\n",
        "in the post or contradicts something in the post, it should be given a maximum score of 5. (If you\n",
        "are confused about how to use ‘6’, see the FAQ!)\n",
        "Rubric:\n",
        "Score of 1: The summary is completely wrong, made up, or exactly contradicts what is written in\n",
        "the post.\n",
        "Score of 4: The summary says at least one substantial thing that is not mentioned in the post, or\n",
        "that contradicts something in the post.\n",
        "(Score of 5: The summary says anything, no matter how small, that is not mentioned in the post,\n",
        "or that contradicts something in the post.)\n",
        "Score of 7: The summary has no incorrect statements or misleading implications.\"\"\",\n",
        "            },\n",
        "            \"Coverage\": {\n",
        "                \"type\": \"integer\",\n",
        "                \"minimum\": 1,\n",
        "                \"maximum\": 7,\n",
        "                \"description\": \"\"\"Coverage\n",
        "For this axis, answer the question “how well does the summary cover the important information\n",
        "in the post?” A summary has good coverage if it mentions the main information from the post\n",
        "that’s important to understand the situation described in the post. A summary has poor coverage if\n",
        "someone reading only the summary would be missing several important pieces of information\n",
        "about the situation in the post. A summary with good coverage should also match the purpose of\n",
        "the original post (e.g. to ask for advice).\n",
        "Rubric:\n",
        "Score of 1: The summary contains no information relevant to the post.\n",
        "Score of 4: The summary is missing at least 1 important piece of information required to understand the situation.\n",
        "Score of 7: The summary covers all of the important information required to understand the\n",
        "situation.\n",
        "\"\"\",\n",
        "            },\n",
        "            \"Overall\": {\n",
        "                \"type\": \"integer\",\n",
        "                \"minimum\": 1,\n",
        "                \"maximum\": 7,\n",
        "                \"description\": \"\"\"Overall quality\n",
        "For this axis, answer the question “how good is the summary overall at representing the post?”\n",
        "This can encompass all of the above axes of quality, as well as others you feel are important. If\n",
        "it’s hard to find ways to make the summary better, give the summary a high score. If there are lots\n",
        "of different ways the summary can be made better, give the summary a low score.\n",
        "Rubric:\n",
        "Score of 1: The summary is terrible.\n",
        "Score of 4: The summary is an okay representation of the post, but could be significantly improved.\n",
        "Score of 7: The summary is an excellent representation of the post.\n",
        "\"\"\",\n",
        "            },\n",
        "        },\n",
        "        \"required\": [\"Coherence\", \"Accuracy\", \"Coverage\", \"Overall\"],\n",
        "    },\n",
        "    completion_tags_selector=[task_tag_selector], # 1) Selecting which logs to show in the Feedback inbox in the GUI\n",
        "    instruction=\"\"\"You are an evaluator of summaries of articles on reddit. You are tasked with grading the summaries for accuracy, coherence, coverage and overall.\n",
        "\n",
        "Coherence\n",
        "For this axis, answer the question “how coherent is the summary on its own?” A summary is\n",
        "coherent if, when read by itself, it’s easy to understand and free of English errors. A summary is\n",
        "not coherent if it’s difficult to understand what the summary is trying to say. Generally, it’s more\n",
        "important that the summary is understandable than it being free of grammar errors.\n",
        "Rubric:\n",
        "Score of 1: The summary is impossible to understand.\n",
        "Score of 4: The summary has mistakes or confusing phrasing that make it a bit hard to understand.\n",
        "Score of 7: The summary is perfectly clear.\n",
        "\n",
        "Accuracy\n",
        "For this axis, answer the question “does the factual information in the summary accurately match\n",
        "the post?” A summary is accurate if it doesn’t say things that aren’t in the article, it doesn’t mix up\n",
        "people, and generally is not misleading. If the summary says anything at all that is not mentioned\n",
        "in the post or contradicts something in the post, it should be given a maximum score of 5. (If you\n",
        "are confused about how to use ‘6’, see the FAQ!)\n",
        "Rubric:\n",
        "Score of 1: The summary is completely wrong, made up, or exactly contradicts what is written in\n",
        "the post.\n",
        "Score of 4: The summary says at least one substantial thing that is not mentioned in the post, or\n",
        "that contradicts something in the post.\n",
        "(Score of 5: The summary says anything, no matter how small, that is not mentioned in the post,\n",
        "or that contradicts something in the post.)\n",
        "Score of 7: The summary has no incorrect statements or misleading implications.\n",
        "\n",
        "Coverage\n",
        "For this axis, answer the question “how well does the summary cover the important information\n",
        "in the post?” A summary has good coverage if it mentions the main information from the post\n",
        "that’s important to understand the situation described in the post. A summary has poor coverage if\n",
        "someone reading only the summary would be missing several important pieces of information\n",
        "about the situation in the post. A summary with good coverage should also match the purpose of\n",
        "the original post (e.g. to ask for advice).\n",
        "Rubric:\n",
        "Score of 1: The summary contains no information relevant to the post.\n",
        "Score of 4: The summary is missing at least 1 important piece of information required to understand the situation.\n",
        "Score of 7: The summary covers all of the important information required to understand the\n",
        "situation.\n",
        "\n",
        "Overall quality\n",
        "For this axis, answer the question “how good is the summary overall at representing the post?”\n",
        "This can encompass all of the above axes of quality, as well as others you feel are important. If\n",
        "it’s hard to find ways to make the summary better, give the summary a high score. If there are lots\n",
        "of different ways the summary can be made better, give the summary a low score.\n",
        "Rubric:\n",
        "Score of 1: The summary is terrible.\n",
        "Score of 4: The summary is an okay representation of the post, but could be significantly improved.\n",
        "Score of 7: The summary is an excellent representation of the post.\"\"\",\n",
        ")"
      ]
    },
    {
      "cell_type": "markdown",
      "metadata": {
        "id": "UcJkfN4BlP9_"
      },
      "source": [
        "### Test prompt for generating the summary"
      ]
    },
    {
      "cell_type": "code",
      "execution_count": 46,
      "metadata": {
        "id": "JjuPlZXwrlNp"
      },
      "outputs": [],
      "source": [
        "@chatprompt(\n",
        "    SystemMessage(\"Create a concise summary of the following article\"),\n",
        "    UserMessage(\" {article}. \\n\\n\\\n",
        "Aim to make the summary perfectly clear (coherent), \\\n",
        "with no incorrect statements or misleading implications (accurate), \\\n",
        "covering all the important information required to understand the situation (high coverage) \\\n",
        "and an excellent representation of the post (high quality).\")\n",
        ")\n",
        "async def create_message(article: str) -> AsyncStreamedStr:  # ruff: ignore\n",
        "  ...\n",
        "\n",
        "@chatprompt(\n",
        "    SystemMessage(\"Create a concise summary of the following article\"),\n",
        "    UserMessage(\" {article}. \\n\\n\\\n",
        "Aim to make the summary perfectly clear (coherent), \\\n",
        "with no incorrect statements or misleading implications (accurate), \\\n",
        "covering all the important information required to understand the situation (high coverage) \\\n",
        "and an excellent representation of the post (high quality).\")\n",
        ")\n",
        "def create_sync_message(article: str) -> str:  # ruff: ignore\n",
        "  ...\n"
      ]
    },
    {
      "cell_type": "markdown",
      "metadata": {
        "id": "zvl2jjqKl3DN"
      },
      "source": [
        "## Generate Example 1"
      ]
    },
    {
      "cell_type": "code",
      "execution_count": 38,
      "metadata": {
        "colab": {
          "base_uri": "https://localhost:8080/"
        },
        "id": "cr89Fmpjf2Ph",
        "outputId": "aaddbcde-7cbf-4924-fcf9-033597e21450"
      },
      "outputs": [
        {
          "name": "stdout",
          "output_type": "stream",
          "text": [
            "Newcastle stand-in captain Moussa Sissoko faces potential disciplinary action from his club after receiving a second yellow card for a reckless challenge on Liverpool's Lucas Leiva in a recent 2-0 loss at Anfield. Sissoko, who subsequently apologized to Leiva, acknowledged the severity of his tackle, and Newcastle head coach John Carver suggested that the offense warranted a straight red card rather than just a booking. The incident contributes to ongoing disciplinary concerns for Newcastle, with Carver emphasizing the need for improved leadership and discipline within the team. Following the incident, Sissoko is set to serve a two-match ban.\n",
            "\n",
            "Beyond the field issues, Carver stressed the urgency of addressing Newcastle's current form in the Premier League. The team has encountered a troubling streak, losing five consecutive matches and scoring only once during these games. Despite holding a nine-point buffer above the relegation zone with six games remaining, Carver highlighted the critical nature of upcoming matches, particularly at home, and the necessity for Newcastle to start securing their own results rather than depending on other teams' failures to ensure Premier League survival."
          ]
        }
      ],
      "source": [
        "uuid_str = str(uuid.uuid4())\n",
        "\n",
        "async def main():\n",
        "  # Example 1\n",
        "  article = \"\"\"Newcastle stand-in skipper Moussa Sissoko is facing disciplinary action after he was sent off following a reckless challenge on Liverpool midfielder Lucas Leiva during Monday's 2-0 defeat at Anfield.\\n\\nThe France international was given a second yellow card for the offence, but head coach John Carver feels it should have been a straight red.\\n\\n'The club will deal with that situation,' he said when asked if Sissoko - who is now banned for two matches - would be punished.\\n\\nLiverpool midfielder Lucas Leiva clutches his leg after Moussa Sissoko's tackle at Anfield\\n\\nSissoko hands the captain's armband to boss John Carver as he leaves the pitch after being sent off\\n\\n'He knows he was wrong. He was fortunate not to get a straight red and he agreed with me.\\n\\n'He apologised afterwards to Lucas, which was important.\\n\\n'But you think captains would lead by example. We have to improve our discipline. I will be looking at that.'\\n\\nMeanwhile, Carver says Newcastle cannot rely on the shortcomings of others to preserve their Premier League status.\\n\\nThe Magpies are the division's most out-of-form side having lost five on the spin, scoring just one goal along the way.\\n\\nLiverpool's players surround Lucas following Sissoko's dangerous tackle during Monday night's game\\n\\nRaheem Sterling bends the ball past Tim Krul to open the scoring in Liverpool's 2-0 win against Newcastle\\n\\nThey are nine points clear of danger with six matches to play, but Carver says it's about time they started helping themselves, starting with Sunday's visit of Spurs.\\n\\n'These two home games (Spurs followed by Swansea) are massive for us. I'm not bothered about performances, we need results,' he said.\\n\\n'I'm not worrying about that (relegation) at the moment, and the good thing is we have four games at home.\\n\\n'But we need to start winning now. We can't rely on others teams. We can't afford to ease off, I have always said that.\\n\\n'We have gone through a rough spell. It's down to me now to get players in right frame of mind.'\\n\\nNewcastle's players appear dejected as Joe Allen celebrates scoring Liverpool's second goal at Anfield\"\"\"\n",
        "\n",
        "  with log10_session(tags=[task_tag_selector, uuid_str]): # remember to use unique uuid here to be able to assign the feedback in the next step\n",
        "      output = await create_message(article)\n",
        "      async for chunk in output:\n",
        "          print(chunk, end=\"\", flush=True)\n",
        "\n",
        "\n",
        "await main()"
      ]
    },
    {
      "cell_type": "markdown",
      "metadata": {
        "id": "kxfLMaM3l6S3"
      },
      "source": [
        "### Assign Feedback on Example 1 via SDK/API"
      ]
    },
    {
      "cell_type": "code",
      "execution_count": 39,
      "metadata": {
        "colab": {
          "base_uri": "https://localhost:8080/"
        },
        "id": "TB0rF4bpTTW5",
        "outputId": "f24a04bd-fdb8-4988-cf9c-7646d842e7bd"
      },
      "outputs": [
        {
          "data": {
            "text/plain": [
              "<Response [200 OK]>"
            ]
          },
          "execution_count": 39,
          "metadata": {},
          "output_type": "execute_result"
        }
      ],
      "source": [
        "task_id = task.json()[\"id\"]\n",
        "\n",
        "\n",
        "Feedback().create(\n",
        "    task_id=task_id,\n",
        "    values={            #Dummy ratings\n",
        "        \"Overall\": 3,\n",
        "        \"Accuracy\": 5,\n",
        "        \"Coverage\": 4,\n",
        "        \"Coherence\": 2,\n",
        "        },\n",
        "    completion_tags_selector=[uuid_str, task_tag_selector], # 2) Tagging new logs/completions to attach feedback to\n",
        "    comment=\"Misleading: \\\"Carver admits he is only concerned with results and not performances\\\" understood as if critics of monday's match but it's said for the following matches.\\n\\n13th??\\n\\nDoesnt properly address the teams, the match, the result, 2nd yellow card and therefore sent off, etc.\"\n",
        ")"
      ]
    },
    {
      "cell_type": "markdown",
      "metadata": {
        "id": "YrkNuOl_l_q1"
      },
      "source": [
        "## Generate Example 2"
      ]
    },
    {
      "cell_type": "code",
      "execution_count": 40,
      "metadata": {
        "colab": {
          "base_uri": "https://localhost:8080/"
        },
        "id": "AmGe_R95f3qn",
        "outputId": "5bec3a8b-7868-4f82-a53f-d930c46a4df2"
      },
      "outputs": [
        {
          "name": "stdout",
          "output_type": "stream",
          "text": [
            "Over 70,000 people worldwide have signed a petition calling on McDonald's to remove metal spikes outside a Leeds city center restaurant, intended to prevent rough sleeping. Critics argue the spikes discourage homeless individuals from resting there, a claim McDonald's refutes, saying the spikes aim to curb antisocial behavior, not to target the homeless. The petition, initiated by Isobella DeMartino, has gained international support. McDonald's insists the studs are part of a broader strategy, developed in consultation with the police, to manage antisocial issues at the location."
          ]
        }
      ],
      "source": [
        "uuid_str = str(uuid.uuid4())\n",
        "\n",
        "async def main():\n",
        "  # Example 2\n",
        "  article = \"\"\"More than 70,000 people across the world have signed a petition demanding McDonald's remove spikes that deter the homeless from sleeping outside one of its restaurants.\\n\\nThe fast food giant has caused fury after installing metal studs outside its branch in Leeds city centre, which critics say are there to stop people  sleeping rough.\\n\\nMcDonald's has defended the use of the spikes, claiming they were installed two years ago in an attempt to stop anti-social behaviour, not target the homeless.\\n\\nUproar: A petition has been started to get the spikes removed from outside this Leeds McDonald's and 70,000 have backed the campaign\\n\\nBut critics say they have been put in because they are uncomfortable to sleep on and installed on areas which used to be benches.\\n\\nIsobella DeMartino set up the petition to have them removed and has received support from across the globe. \\n\\nRow: Critics say the spikes were installed to target the homeless but McDonald's say it is only about anti-social behaviour\\n\\n'Anti-homeless spikes show complete disregard and lack of respect for homeless people who struggle every day,' she said.\\n\\n'Spikes have been installed, presumably to prevent people sleeping there.\\n\\n'The fact that the spikes exist shows how little people care about homeless people.'\\n\\nShe added: 'Every time I'm in Leeds I see many ignore homeless people, not even bothering to smile at them let alone try to help them or give charity. I cannot imagine how painful and lonely it must be to be homeless.\\n\\n'They deserve our attention and care, this issue cannot be ignored.'\\n\\nA spokeswoman for McDonald's said: 'The studs in question are not an 'anti- homeless' measure, as has been suggested.\\n\\n'They have been in place for around two years and were introduced Following discussions with the police, in response to issues we were experiencing with antisocial behaviour.\\n\\n'We welcome all customers through our doors and it is inaccurate to suggest a measure taken in response to tackling antisocial behaviour, is an attempt to deter homeless people.'\"\"\"\n",
        "\n",
        "  with log10_session(tags=[task_tag_selector, uuid_str]):\n",
        "      output = await create_message(article)\n",
        "      async for chunk in output:\n",
        "          print(chunk, end=\"\", flush=True)\n",
        "\n",
        "\n",
        "await main()"
      ]
    },
    {
      "cell_type": "markdown",
      "metadata": {
        "id": "Gd_k2XOjcsrM"
      },
      "source": [
        "### Assign Feedback via the UI\n",
        "1. Log in to your log10.io account\n",
        "2. Navigate to the Feedback tab in the left side panel\n",
        "3. You should see the above example in the inbox. Click on it to assign feedback via the UI"
      ]
    },
    {
      "cell_type": "markdown",
      "metadata": {
        "id": "z_AFG_USfs4H"
      },
      "source": [
        "## Generate Example 3"
      ]
    },
    {
      "cell_type": "code",
      "execution_count": 50,
      "metadata": {
        "colab": {
          "base_uri": "https://localhost:8080/"
        },
        "id": "adcwuDL5fnaS",
        "outputId": "212b4f3a-a6d4-445c-9f29-2255cd18bdb5"
      },
      "outputs": [
        {
          "name": "stdout",
          "output_type": "stream",
          "text": [
            "A deckchair from the Titanic, one of the few recovered after the ship sank in 1912, sold for £100,350 at auction. It was part of the Titanic memorabilia, regarded for its rarity and historical significance. Salvaged by a search team and previously owned by a British collector for 15 years, the teak wood chair is too fragile for use and has been maintained as a display item. Originating from the Titanic, which sank after striking an iceberg, resulting in 1,522 deaths, the chair has a significant provenance package confirming its authenticity. It was sold to a UK buyer by Henry Aldridge and Son auction house in Devizes, Wiltshire.\n",
            "https://log10.io/app/log10/completions/e0ed3077-f792-4b16-a3b6-b782e5c5fe48\n"
          ]
        }
      ],
      "source": [
        "uuid_str = str(uuid.uuid4())\n",
        "last_completion_url = \"init\"\n",
        "\n",
        "#async def main():\n",
        "#Using sync version for now to be able to get last_completion_url and extract the completion_id\n",
        "\n",
        "from log10.load import OpenAI\n",
        "client = OpenAI()\n",
        "\n",
        "# Example 3\n",
        "article = \"\"\"A humble wooden deckchair recovered from the doomed Titanic has sold for \\u00a3100,350 at auction.\\n\\nThe Nantucket wooden chair, which once sat on a first-class promenade of the ill-fated ship, was salvaged by a search team from the Atlantic Ocean after the Titanic sank in 1912. \\n\\nDubbed 'one of the rarest types of Titanic collectable', the chair is too fragile to sit on, but has been carefully preserved, having been owned by a British collector for the past 15 years.\\n\\nA 103-year-old deckchair recovered from the wreck of the Titanic is expected sold for \\u00a3100,000 at auction\\n\\nThe ship's log records six or seven deckchairs being picked up and taken back to port in Halifax, Nova Scotia.\\n\\nOne was given by a crew member to Captain Julien Lemarteleur, who had previously worked on board the Mackay-Bennett. \\n\\nThe anonymous seller kept it by a large window overlooking the sea at his home on the south coast, never sat on it due to its fragile state and instead used it as a display item. \\n\\nIt was sold yesterday at Henry Aldridge and Son auction house in Devizes, Wiltshire, to a UK buyer. \\n\\nAndrew Aldridge, of auctioneers Henry Aldridge and Son, described the piece as one of 'the most important [bits] of Titanic memorabilia around'.  \\n\\nHe said: 'It is incredibly rare to find something of that size that was on Titanic, was salvaged and that still exists today.\\n\\nSix or seven recovered deckchairs were stacked on the deck of the Mackay-Bennett as it arrived in Nova Scotia\\n\\nTitanic (above) sank with the loss of 1,522 lives four hours after it struck on iceberg at 10.20pm on April 14\\n\\nIt has a five pointed star on top of it, which was the emblem of White Star Line - the company that owned the Titanic\\n\\nHe said that he was 'very, very pleased' with the price.\\n\\nThe chair is made of teak wood and has an adjustable footrest at the front. It is 57 inches long, 23 inches wide and 35 inches tall.\\n\\nIt has a five pointed star on top of it, which was the emblem of White Star Line - the company that owned the Titanic. \\n\\nUpon his death in 1973, Capt Lemarteleur gave the chair to colleague Captain Robin Lee. The current owner acquired it in 2001.\\n\\nSold with the chair was an in depth 'provenance package' that authenticates history and association with Titanic.\\n\\nCaptain Julien Lemarteleur (above), who collected the chair from the Mackay-Bennett more than 100 years ago\\n\\nIt includes a signed affidavit from Margarete Pennington, who was Mr Lemarteleur's housekeeper in the 1960s.\\n\\nIn it she states: 'I personally saw the deckchair that Captain Lemarteleur told me about on many occasions. He said that various pieces of debris taken from the ocean including this Titanic deckchair he acquired.\\n\\n'I recognise the chair as the same chair I saw in the captain's garage and of which the captain identified as coming from the Titanic.'\\n\\nCraig Sopin, 57, a lawyer from Philadelphia, owns one of the world's largest collections of Titanic memorabilia.\\n\\nHe also authenticated the chair and said: 'It isn't often that one has the opportunity to acquire such an important part of Titanic's story.\\n\\n'For such a significant item to have such a meticulous chain of custody is nothing short of astonishing. Its history can be traced from the auction house back to Titanic itself.'\\n\\nTitanic sank with the loss of 1,522 lives four hours after it struck on iceberg at 10.20pm on April 14.\\n\\nA ship, the Carpathia, picked up more than 700 survivors in lifeboats hours later and took them back to New York.\\n\\nWhite Star Line chartered four ships, including the Halifax-based cable-laying vessel the Mackay-Bennett, to recover the bodies.\"\"\"\n",
        "\n",
        "with log10_session(tags=[task_tag_selector, uuid_str]) as session:\n",
        "    response = create_sync_message(article)\n",
        "    print(response)\n",
        "    last_completion_url = session.last_completion_url()\n",
        "    print(last_completion_url)\n",
        "\n",
        "completion_id = last_completion_url.split(\"/\")[-1]\n",
        "#await main()"
      ]
    },
    {
      "cell_type": "code",
      "execution_count": 51,
      "metadata": {
        "colab": {
          "base_uri": "https://localhost:8080/"
        },
        "id": "SR9rdKzwAUlA",
        "outputId": "b3449d4f-de99-4c05-da28-b97c7e7186f8"
      },
      "outputs": [
        {
          "name": "stdout",
          "output_type": "stream",
          "text": [
            "e0ed3077-f792-4b16-a3b6-b782e5c5fe48\n"
          ]
        }
      ],
      "source": [
        "print(completion_id)"
      ]
    },
    {
      "cell_type": "code",
      "execution_count": 42,
      "metadata": {
        "id": "qQQulXW9nW4V"
      },
      "outputs": [],
      "source": [
        "# # async way\n",
        "\n",
        "# uuid_str = str(uuid.uuid4())\n",
        "# last_completion_url = \"init\"\n",
        "\n",
        "# async def main():\n",
        "#   # Example 3\n",
        "#   article = \"That cat ran over the mouse\" # for quick testing\n",
        "\n",
        "#   with log10_session(tags=[task_tag_selector, uuid_str]):\n",
        "#       output = await create_message(article)\n",
        "#       async for chunk in output:\n",
        "#           print(chunk, end=\"\", flush=True)\n",
        "#       global last_completion_url\n",
        "#       last_completion_url = session.last_completion_url()\n",
        "\n",
        "# await main()\n",
        "\n",
        "#article = \"\"\"A humble wooden deckchair recovered from the doomed Titanic has sold for \\u00a3100,350 at auction.\\n\\nThe Nantucket wooden chair, which once sat on a first-class promenade of the ill-fated ship, was salvaged by a search team from the Atlantic Ocean after the Titanic sank in 1912. \\n\\nDubbed 'one of the rarest types of Titanic collectable', the chair is too fragile to sit on, but has been carefully preserved, having been owned by a British collector for the past 15 years.\\n\\nA 103-year-old deckchair recovered from the wreck of the Titanic is expected sold for \\u00a3100,000 at auction\\n\\nThe ship's log records six or seven deckchairs being picked up and taken back to port in Halifax, Nova Scotia.\\n\\nOne was given by a crew member to Captain Julien Lemarteleur, who had previously worked on board the Mackay-Bennett. \\n\\nThe anonymous seller kept it by a large window overlooking the sea at his home on the south coast, never sat on it due to its fragile state and instead used it as a display item. \\n\\nIt was sold yesterday at Henry Aldridge and Son auction house in Devizes, Wiltshire, to a UK buyer. \\n\\nAndrew Aldridge, of auctioneers Henry Aldridge and Son, described the piece as one of 'the most important [bits] of Titanic memorabilia around'.  \\n\\nHe said: 'It is incredibly rare to find something of that size that was on Titanic, was salvaged and that still exists today.\\n\\nSix or seven recovered deckchairs were stacked on the deck of the Mackay-Bennett as it arrived in Nova Scotia\\n\\nTitanic (above) sank with the loss of 1,522 lives four hours after it struck on iceberg at 10.20pm on April 14\\n\\nIt has a five pointed star on top of it, which was the emblem of White Star Line - the company that owned the Titanic\\n\\nHe said that he was 'very, very pleased' with the price.\\n\\nThe chair is made of teak wood and has an adjustable footrest at the front. It is 57 inches long, 23 inches wide and 35 inches tall.\\n\\nIt has a five pointed star on top of it, which was the emblem of White Star Line - the company that owned the Titanic. \\n\\nUpon his death in 1973, Capt Lemarteleur gave the chair to colleague Captain Robin Lee. The current owner acquired it in 2001.\\n\\nSold with the chair was an in depth 'provenance package' that authenticates history and association with Titanic.\\n\\nCaptain Julien Lemarteleur (above), who collected the chair from the Mackay-Bennett more than 100 years ago\\n\\nIt includes a signed affidavit from Margarete Pennington, who was Mr Lemarteleur's housekeeper in the 1960s.\\n\\nIn it she states: 'I personally saw the deckchair that Captain Lemarteleur told me about on many occasions. He said that various pieces of debris taken from the ocean including this Titanic deckchair he acquired.\\n\\n'I recognise the chair as the same chair I saw in the captain's garage and of which the captain identified as coming from the Titanic.'\\n\\nCraig Sopin, 57, a lawyer from Philadelphia, owns one of the world's largest collections of Titanic memorabilia.\\n\\nHe also authenticated the chair and said: 'It isn't often that one has the opportunity to acquire such an important part of Titanic's story.\\n\\n'For such a significant item to have such a meticulous chain of custody is nothing short of astonishing. Its history can be traced from the auction house back to Titanic itself.'\\n\\nTitanic sank with the loss of 1,522 lives four hours after it struck on iceberg at 10.20pm on April 14.\\n\\nA ship, the Carpathia, picked up more than 700 survivors in lifeboats hours later and took them back to New York.\\n\\nWhite Star Line chartered four ships, including the Halifax-based cable-laying vessel the Mackay-Bennett, to recover the bodies.\"\"\""
      ]
    },
    {
      "cell_type": "markdown",
      "metadata": {
        "id": "RjZxHvw0MaGU"
      },
      "source": [
        "### Use AutoFeedback to assign Feedback"
      ]
    },
    {
      "cell_type": "code",
      "execution_count": 52,
      "metadata": {
        "colab": {
          "base_uri": "https://localhost:8080/"
        },
        "id": "VPyg5r2wMZQL",
        "outputId": "2d6b3de1-1c09-45cc-8a37-46bd5babb529"
      },
      "outputs": [
        {
          "name": "stdout",
          "output_type": "stream",
          "text": [
            "{\"note\": \"The summary effectively condenses the main points of the article, maintaining a focus on the sale and historical significance of the Titanic deckchair. It is coherent, accurate, and covers the essential details without overwhelming the reader with minutiae.\", \"axes\": {\"overall\": \"7\", \"accuracy\": \"7\", \"coverage\": \"6\", \"coherence\": \"7\"}}\n"
          ]
        }
      ],
      "source": [
        "from log10.feedback._summary_feedback_utils import flatten_messages, summary_feedback_llm_call\n",
        "from log10.feedback.autofeedback import AutoFeedbackICL\n",
        "\n",
        "num_few_shot_examples = 1 # recommend setting to 5\n",
        "\n",
        "# Setup AutoFeedbackICL\n",
        "auto_feedback_icl = AutoFeedbackICL(task_id, num_samples=num_few_shot_examples, predict_func=summary_feedback_llm_call)\n",
        "\n",
        "# Get completion_id to predict feedback on\n",
        "#completion_id = \"e77c023f-b847-4d16-9509-1e62e22c84dc\"\n",
        "autofeedback_prediction = auto_feedback_icl.predict(completion_id=completion_id)\n",
        "\n",
        "print(autofeedback_prediction)\n"
      ]
    },
    {
      "cell_type": "code",
      "execution_count": 60,
      "metadata": {
        "colab": {
          "base_uri": "https://localhost:8080/"
        },
        "id": "W4UOTstICrY7",
        "outputId": "d261da11-6a80-4f9b-8b6e-ba8a84b51bf9"
      },
      "outputs": [
        {
          "name": "stdout",
          "output_type": "stream",
          "text": [
            "{'overall': '7', 'accuracy': '7', 'coverage': '6', 'coherence': '7'} The summary effectively condenses the main points of the article, maintaining a focus on the sale and historical significance of the Titanic deckchair. It is coherent, accurate, and covers the essential details without overwhelming the reader with minutiae.\n"
          ]
        }
      ],
      "source": [
        "import json\n",
        "\n",
        "# covert AutoFeedback to json\n",
        "af_pred = json.loads(autofeedback_prediction)\n",
        "print(af_pred[\"axes\"], af_pred[\"note\"])\n"
      ]
    },
    {
      "cell_type": "code",
      "execution_count": 58,
      "metadata": {
        "colab": {
          "base_uri": "https://localhost:8080/"
        },
        "id": "_caqoUj_Dyvg",
        "outputId": "c181e83b-bf50-4377-8a8f-23a9895b6f21"
      },
      "outputs": [
        {
          "name": "stdout",
          "output_type": "stream",
          "text": [
            "87b8ff31-1dc2-4763-bdf5-e7ec40fd4196 summary-grading-cnndm-SDK-test-6\n"
          ]
        }
      ],
      "source": [
        "print(uuid_str, task_tag_selector)"
      ]
    },
    {
      "cell_type": "code",
      "execution_count": 61,
      "metadata": {
        "colab": {
          "base_uri": "https://localhost:8080/"
        },
        "id": "du9IkVdsCMIp",
        "outputId": "96bbcaca-3224-42f4-f9d8-bcf21a32d2fd"
      },
      "outputs": [
        {
          "data": {
            "text/plain": [
              "<Response [200 OK]>"
            ]
          },
          "execution_count": 61,
          "metadata": {},
          "output_type": "execute_result"
        }
      ],
      "source": [
        "# Use the above AutoFeedback to populate the feedback\n",
        "task_id = task.json()[\"id\"]\n",
        "\n",
        "Feedback().create(\n",
        "    task_id=task_id,\n",
        "    values={\n",
        "        \"Overall\": int(af_pred[\"axes\"][\"overall\"]),\n",
        "        \"Accuracy\": int(af_pred[\"axes\"][\"accuracy\"]),\n",
        "        \"Coverage\": int(af_pred[\"axes\"][\"coverage\"]),\n",
        "        \"Coherence\": int(af_pred[\"axes\"][\"coherence\"]),\n",
        "        },\n",
        "    completion_tags_selector=[uuid_str, task_tag_selector], # 2) Tagging new logs/completions to attach feedback to\n",
        "    comment=af_pred[\"note\"]\n",
        ")\n",
        "\n",
        "#This will appear in the Feedback stream on the Feedback tab"
      ]
    },
    {
      "cell_type": "markdown",
      "metadata": {
        "id": "E_czbyn3dyUM"
      },
      "source": [
        "## Talk to us / Coming soon\n",
        "1. Use Log10's managed AutoFeedback service to automatically assign feedback to new generations from the LLM\n",
        "2. Get summary stats over feedback (human + AutoFeedback)\n",
        "3. Set up alerts over AutoFeedback\n",
        "4. Curate datasets for fine-tuning or prompt engineering to improve accuracy and customize per customer"
      ]
    }
  ],
  "metadata": {
    "colab": {
      "provenance": [],
      "toc_visible": true
    },
    "kernelspec": {
      "display_name": "Python 3",
      "name": "python3"
    },
    "language_info": {
      "name": "python"
    }
  },
  "nbformat": 4,
  "nbformat_minor": 0
}

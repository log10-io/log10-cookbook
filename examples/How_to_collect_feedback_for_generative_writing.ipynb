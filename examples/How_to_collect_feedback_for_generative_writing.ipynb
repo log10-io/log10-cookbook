{
  "cells": [
    {
      "cell_type": "markdown",
      "metadata": {
        "id": "LzVbRVrdkWS1"
      },
      "source": [
        "# Generating AI writing - Example for setting up feedback task with Log10"
      ]
    },
    {
      "cell_type": "markdown",
      "metadata": {
        "id": "kV4Ne_TUkhGB"
      },
      "source": [
        "## Install dependencies"
      ]
    },
    {
      "cell_type": "code",
      "execution_count": 1,
      "metadata": {
        "colab": {
          "base_uri": "https://localhost:8080/"
        },
        "id": "FCM6Ieuxor2Q",
        "outputId": "255bb8cc-c83e-40af-ae0b-5d06ff201a39"
      },
      "outputs": [
        {
          "name": "stdout",
          "output_type": "stream",
          "text": [
            "Requirement already satisfied: openai in /usr/local/lib/python3.10/dist-packages (1.24.1)\n",
            "Requirement already satisfied: anyio<5,>=3.5.0 in /usr/local/lib/python3.10/dist-packages (from openai) (3.7.1)\n",
            "Requirement already satisfied: distro<2,>=1.7.0 in /usr/lib/python3/dist-packages (from openai) (1.7.0)\n",
            "Requirement already satisfied: httpx<1,>=0.23.0 in /usr/local/lib/python3.10/dist-packages (from openai) (0.25.2)\n",
            "Requirement already satisfied: pydantic<3,>=1.9.0 in /usr/local/lib/python3.10/dist-packages (from openai) (2.7.1)\n",
            "Requirement already satisfied: sniffio in /usr/local/lib/python3.10/dist-packages (from openai) (1.3.1)\n",
            "Requirement already satisfied: tqdm>4 in /usr/local/lib/python3.10/dist-packages (from openai) (4.66.2)\n",
            "Requirement already satisfied: typing-extensions<5,>=4.7 in /usr/local/lib/python3.10/dist-packages (from openai) (4.11.0)\n",
            "Requirement already satisfied: idna>=2.8 in /usr/local/lib/python3.10/dist-packages (from anyio<5,>=3.5.0->openai) (3.7)\n",
            "Requirement already satisfied: exceptiongroup in /usr/local/lib/python3.10/dist-packages (from anyio<5,>=3.5.0->openai) (1.2.1)\n",
            "Requirement already satisfied: certifi in /usr/local/lib/python3.10/dist-packages (from httpx<1,>=0.23.0->openai) (2024.2.2)\n",
            "Requirement already satisfied: httpcore==1.* in /usr/local/lib/python3.10/dist-packages (from httpx<1,>=0.23.0->openai) (1.0.5)\n",
            "Requirement already satisfied: h11<0.15,>=0.13 in /usr/local/lib/python3.10/dist-packages (from httpcore==1.*->httpx<1,>=0.23.0->openai) (0.14.0)\n",
            "Requirement already satisfied: annotated-types>=0.4.0 in /usr/local/lib/python3.10/dist-packages (from pydantic<3,>=1.9.0->openai) (0.6.0)\n",
            "Requirement already satisfied: pydantic-core==2.18.2 in /usr/local/lib/python3.10/dist-packages (from pydantic<3,>=1.9.0->openai) (2.18.2)\n",
            "Requirement already satisfied: log10-io in /usr/local/lib/python3.10/dist-packages (0.8.4)\n",
            "Requirement already satisfied: anthropic<1 in /usr/local/lib/python3.10/dist-packages (from log10-io) (0.25.7)\n",
            "Requirement already satisfied: backoff<3.0.0,>=2.2.1 in /usr/local/lib/python3.10/dist-packages (from log10-io) (2.2.1)\n",
            "Requirement already satisfied: faiss-cpu<2.0.0,>=1.7.4 in /usr/local/lib/python3.10/dist-packages (from log10-io) (1.8.0)\n",
            "Requirement already satisfied: faker<20.0.0,>=19.2.0 in /usr/local/lib/python3.10/dist-packages (from log10-io) (19.13.0)\n",
            "Requirement already satisfied: google-cloud-aiplatform>=1.44.0 in /usr/local/lib/python3.10/dist-packages (from log10-io) (1.48.0)\n",
            "Requirement already satisfied: google-cloud-bigquery<4.0.0,>=3.11.4 in /usr/local/lib/python3.10/dist-packages (from log10-io) (3.21.0)\n",
            "Requirement already satisfied: google-search-results<3.0.0,>=2.4.2 in /usr/local/lib/python3.10/dist-packages (from log10-io) (2.4.2)\n",
            "Requirement already satisfied: lamini<3.0.0,>=2.1.8 in /usr/local/lib/python3.10/dist-packages (from log10-io) (2.1.8)\n",
            "Requirement already satisfied: langchain<0.2.0 in /usr/local/lib/python3.10/dist-packages (from log10-io) (0.1.16)\n",
            "Requirement already satisfied: mistralai<0.2.0,>=0.1.5 in /usr/local/lib/python3.10/dist-packages (from log10-io) (0.1.8)\n",
            "Requirement already satisfied: mosaicml-cli<0.6.0,>=0.5.30 in /usr/local/lib/python3.10/dist-packages (from log10-io) (0.5.34)\n",
            "Requirement already satisfied: openai<2 in /usr/local/lib/python3.10/dist-packages (from log10-io) (1.24.1)\n",
            "Requirement already satisfied: pandas>=2 in /usr/local/lib/python3.10/dist-packages (from log10-io) (2.0.3)\n",
            "Requirement already satisfied: pexpect<5.0.0,>=4.8.0 in /usr/local/lib/python3.10/dist-packages (from log10-io) (4.9.0)\n",
            "Requirement already satisfied: python-dotenv<2.0.0,>=1.0.0 in /usr/local/lib/python3.10/dist-packages (from log10-io) (1.0.1)\n",
            "Requirement already satisfied: requests<3.0.0,>=2.31.0 in /usr/local/lib/python3.10/dist-packages (from log10-io) (2.31.0)\n",
            "Requirement already satisfied: together<0.3.0,>=0.2.7 in /usr/local/lib/python3.10/dist-packages (from log10-io) (0.2.11)\n",
            "Requirement already satisfied: wikipedia<2.0.0,>=1.4.0 in /usr/local/lib/python3.10/dist-packages (from log10-io) (1.4.0)\n",
            "Requirement already satisfied: anyio<5,>=3.5.0 in /usr/local/lib/python3.10/dist-packages (from anthropic<1->log10-io) (3.7.1)\n",
            "Requirement already satisfied: distro<2,>=1.7.0 in /usr/lib/python3/dist-packages (from anthropic<1->log10-io) (1.7.0)\n",
            "Requirement already satisfied: httpx<1,>=0.23.0 in /usr/local/lib/python3.10/dist-packages (from anthropic<1->log10-io) (0.25.2)\n",
            "Requirement already satisfied: pydantic<3,>=1.9.0 in /usr/local/lib/python3.10/dist-packages (from anthropic<1->log10-io) (2.7.1)\n",
            "Requirement already satisfied: sniffio in /usr/local/lib/python3.10/dist-packages (from anthropic<1->log10-io) (1.3.1)\n",
            "Requirement already satisfied: tokenizers>=0.13.0 in /usr/local/lib/python3.10/dist-packages (from anthropic<1->log10-io) (0.19.1)\n",
            "Requirement already satisfied: typing-extensions<5,>=4.7 in /usr/local/lib/python3.10/dist-packages (from anthropic<1->log10-io) (4.11.0)\n",
            "Requirement already satisfied: numpy in /usr/local/lib/python3.10/dist-packages (from faiss-cpu<2.0.0,>=1.7.4->log10-io) (1.25.2)\n",
            "Requirement already satisfied: python-dateutil>=2.4 in /usr/local/lib/python3.10/dist-packages (from faker<20.0.0,>=19.2.0->log10-io) (2.8.2)\n",
            "Requirement already satisfied: google-api-core[grpc]!=2.0.*,!=2.1.*,!=2.2.*,!=2.3.*,!=2.4.*,!=2.5.*,!=2.6.*,!=2.7.*,<3.0.0dev,>=1.34.1 in /usr/local/lib/python3.10/dist-packages (from google-cloud-aiplatform>=1.44.0->log10-io) (2.11.1)\n",
            "Requirement already satisfied: google-auth<3.0.0dev,>=2.14.1 in /usr/local/lib/python3.10/dist-packages (from google-cloud-aiplatform>=1.44.0->log10-io) (2.27.0)\n",
            "Requirement already satisfied: proto-plus<2.0.0dev,>=1.22.0 in /usr/local/lib/python3.10/dist-packages (from google-cloud-aiplatform>=1.44.0->log10-io) (1.23.0)\n",
            "Requirement already satisfied: protobuf!=3.20.0,!=3.20.1,!=4.21.0,!=4.21.1,!=4.21.2,!=4.21.3,!=4.21.4,!=4.21.5,<5.0.0dev,>=3.19.5 in /usr/local/lib/python3.10/dist-packages (from google-cloud-aiplatform>=1.44.0->log10-io) (3.20.3)\n",
            "Requirement already satisfied: packaging>=14.3 in /usr/local/lib/python3.10/dist-packages (from google-cloud-aiplatform>=1.44.0->log10-io) (23.2)\n",
            "Requirement already satisfied: google-cloud-storage<3.0.0dev,>=1.32.0 in /usr/local/lib/python3.10/dist-packages (from google-cloud-aiplatform>=1.44.0->log10-io) (2.8.0)\n",
            "Requirement already satisfied: google-cloud-resource-manager<3.0.0dev,>=1.3.3 in /usr/local/lib/python3.10/dist-packages (from google-cloud-aiplatform>=1.44.0->log10-io) (1.12.3)\n",
            "Requirement already satisfied: shapely<3.0.0dev in /usr/local/lib/python3.10/dist-packages (from google-cloud-aiplatform>=1.44.0->log10-io) (2.0.4)\n",
            "Requirement already satisfied: docstring-parser<1 in /usr/local/lib/python3.10/dist-packages (from google-cloud-aiplatform>=1.44.0->log10-io) (0.16)\n",
            "Requirement already satisfied: google-cloud-core<3.0.0dev,>=1.6.0 in /usr/local/lib/python3.10/dist-packages (from google-cloud-bigquery<4.0.0,>=3.11.4->log10-io) (2.3.3)\n",
            "Requirement already satisfied: google-resumable-media<3.0dev,>=0.6.0 in /usr/local/lib/python3.10/dist-packages (from google-cloud-bigquery<4.0.0,>=3.11.4->log10-io) (2.7.0)\n",
            "Requirement already satisfied: lamini-configuration[yaml] in /usr/local/lib/python3.10/dist-packages (from lamini<3.0.0,>=2.1.8->log10-io) (0.8.3)\n",
            "Requirement already satisfied: tqdm in /usr/local/lib/python3.10/dist-packages (from lamini<3.0.0,>=2.1.8->log10-io) (4.66.2)\n",
            "Requirement already satisfied: jsonlines in /usr/local/lib/python3.10/dist-packages (from lamini<3.0.0,>=2.1.8->log10-io) (4.0.0)\n",
            "Requirement already satisfied: azure-storage-blob in /usr/local/lib/python3.10/dist-packages (from lamini<3.0.0,>=2.1.8->log10-io) (12.19.1)\n",
            "Requirement already satisfied: scikit-learn in /usr/local/lib/python3.10/dist-packages (from lamini<3.0.0,>=2.1.8->log10-io) (1.2.2)\n",
            "Requirement already satisfied: aiohttp in /usr/local/lib/python3.10/dist-packages (from lamini<3.0.0,>=2.1.8->log10-io) (3.9.5)\n",
            "Requirement already satisfied: PyYAML>=5.3 in /usr/local/lib/python3.10/dist-packages (from langchain<0.2.0->log10-io) (6.0.1)\n",
            "Requirement already satisfied: SQLAlchemy<3,>=1.4 in /usr/local/lib/python3.10/dist-packages (from langchain<0.2.0->log10-io) (2.0.29)\n",
            "Requirement already satisfied: async-timeout<5.0.0,>=4.0.0 in /usr/local/lib/python3.10/dist-packages (from langchain<0.2.0->log10-io) (4.0.3)\n",
            "Requirement already satisfied: dataclasses-json<0.7,>=0.5.7 in /usr/local/lib/python3.10/dist-packages (from langchain<0.2.0->log10-io) (0.6.5)\n",
            "Requirement already satisfied: jsonpatch<2.0,>=1.33 in /usr/local/lib/python3.10/dist-packages (from langchain<0.2.0->log10-io) (1.33)\n",
            "Requirement already satisfied: langchain-community<0.1,>=0.0.32 in /usr/local/lib/python3.10/dist-packages (from langchain<0.2.0->log10-io) (0.0.36)\n",
            "Requirement already satisfied: langchain-core<0.2.0,>=0.1.42 in /usr/local/lib/python3.10/dist-packages (from langchain<0.2.0->log10-io) (0.1.48)\n",
            "Requirement already satisfied: langchain-text-splitters<0.1,>=0.0.1 in /usr/local/lib/python3.10/dist-packages (from langchain<0.2.0->log10-io) (0.0.1)\n",
            "Requirement already satisfied: langsmith<0.2.0,>=0.1.17 in /usr/local/lib/python3.10/dist-packages (from langchain<0.2.0->log10-io) (0.1.52)\n",
            "Requirement already satisfied: tenacity<9.0.0,>=8.1.0 in /usr/local/lib/python3.10/dist-packages (from langchain<0.2.0->log10-io) (8.2.3)\n",
            "Requirement already satisfied: orjson<4.0.0,>=3.9.10 in /usr/local/lib/python3.10/dist-packages (from mistralai<0.2.0,>=0.1.5->log10-io) (3.10.1)\n",
            "Requirement already satisfied: argcomplete>=2.0.0 in /usr/local/lib/python3.10/dist-packages (from mosaicml-cli<0.6.0,>=0.5.30->log10-io) (3.3.0)\n",
            "Requirement already satisfied: arrow>=1.2.2 in /usr/local/lib/python3.10/dist-packages (from mosaicml-cli<0.6.0,>=0.5.30->log10-io) (1.3.0)\n",
            "Requirement already satisfied: gql[websockets]>=3.4.0 in /usr/local/lib/python3.10/dist-packages (from mosaicml-cli<0.6.0,>=0.5.30->log10-io) (3.5.0)\n",
            "Requirement already satisfied: prompt-toolkit>=3.0.29 in /usr/local/lib/python3.10/dist-packages (from mosaicml-cli<0.6.0,>=0.5.30->log10-io) (3.0.36)\n",
            "Requirement already satisfied: questionary>=1.10.0 in /usr/local/lib/python3.10/dist-packages (from mosaicml-cli<0.6.0,>=0.5.30->log10-io) (2.0.1)\n",
            "Requirement already satisfied: rich>=12.6.0 in /usr/local/lib/python3.10/dist-packages (from mosaicml-cli<0.6.0,>=0.5.30->log10-io) (13.7.1)\n",
            "Requirement already satisfied: ruamel.yaml>=0.17.21 in /usr/local/lib/python3.10/dist-packages (from mosaicml-cli<0.6.0,>=0.5.30->log10-io) (0.18.6)\n",
            "Requirement already satisfied: validators>=0.20.0 in /usr/local/lib/python3.10/dist-packages (from mosaicml-cli<0.6.0,>=0.5.30->log10-io) (0.28.1)\n",
            "Requirement already satisfied: urllib3>=1.23 in /usr/local/lib/python3.10/dist-packages (from mosaicml-cli<0.6.0,>=0.5.30->log10-io) (2.0.7)\n",
            "Requirement already satisfied: pytz>=2020.1 in /usr/local/lib/python3.10/dist-packages (from pandas>=2->log10-io) (2023.4)\n",
            "Requirement already satisfied: tzdata>=2022.1 in /usr/local/lib/python3.10/dist-packages (from pandas>=2->log10-io) (2024.1)\n",
            "Requirement already satisfied: ptyprocess>=0.5 in /usr/local/lib/python3.10/dist-packages (from pexpect<5.0.0,>=4.8.0->log10-io) (0.7.0)\n",
            "Requirement already satisfied: charset-normalizer<4,>=2 in /usr/local/lib/python3.10/dist-packages (from requests<3.0.0,>=2.31.0->log10-io) (3.3.2)\n",
            "Requirement already satisfied: idna<4,>=2.5 in /usr/local/lib/python3.10/dist-packages (from requests<3.0.0,>=2.31.0->log10-io) (3.7)\n",
            "Requirement already satisfied: certifi>=2017.4.17 in /usr/local/lib/python3.10/dist-packages (from requests<3.0.0,>=2.31.0->log10-io) (2024.2.2)\n",
            "Requirement already satisfied: sseclient-py<2.0.0,>=1.7.2 in /usr/local/lib/python3.10/dist-packages (from together<0.3.0,>=0.2.7->log10-io) (1.8.0)\n",
            "Requirement already satisfied: tabulate<0.10.0,>=0.9.0 in /usr/local/lib/python3.10/dist-packages (from together<0.3.0,>=0.2.7->log10-io) (0.9.0)\n",
            "Requirement already satisfied: typer<0.10.0,>=0.9.0 in /usr/local/lib/python3.10/dist-packages (from together<0.3.0,>=0.2.7->log10-io) (0.9.4)\n",
            "Requirement already satisfied: beautifulsoup4 in /usr/local/lib/python3.10/dist-packages (from wikipedia<2.0.0,>=1.4.0->log10-io) (4.12.3)\n",
            "Requirement already satisfied: aiosignal>=1.1.2 in /usr/local/lib/python3.10/dist-packages (from aiohttp->lamini<3.0.0,>=2.1.8->log10-io) (1.3.1)\n",
            "Requirement already satisfied: attrs>=17.3.0 in /usr/local/lib/python3.10/dist-packages (from aiohttp->lamini<3.0.0,>=2.1.8->log10-io) (23.2.0)\n",
            "Requirement already satisfied: frozenlist>=1.1.1 in /usr/local/lib/python3.10/dist-packages (from aiohttp->lamini<3.0.0,>=2.1.8->log10-io) (1.4.1)\n",
            "Requirement already satisfied: multidict<7.0,>=4.5 in /usr/local/lib/python3.10/dist-packages (from aiohttp->lamini<3.0.0,>=2.1.8->log10-io) (6.0.5)\n",
            "Requirement already satisfied: yarl<2.0,>=1.0 in /usr/local/lib/python3.10/dist-packages (from aiohttp->lamini<3.0.0,>=2.1.8->log10-io) (1.9.4)\n",
            "Requirement already satisfied: exceptiongroup in /usr/local/lib/python3.10/dist-packages (from anyio<5,>=3.5.0->anthropic<1->log10-io) (1.2.1)\n",
            "Requirement already satisfied: types-python-dateutil>=2.8.10 in /usr/local/lib/python3.10/dist-packages (from arrow>=1.2.2->mosaicml-cli<0.6.0,>=0.5.30->log10-io) (2.9.0.20240316)\n",
            "Requirement already satisfied: marshmallow<4.0.0,>=3.18.0 in /usr/local/lib/python3.10/dist-packages (from dataclasses-json<0.7,>=0.5.7->langchain<0.2.0->log10-io) (3.21.1)\n",
            "Requirement already satisfied: typing-inspect<1,>=0.4.0 in /usr/local/lib/python3.10/dist-packages (from dataclasses-json<0.7,>=0.5.7->langchain<0.2.0->log10-io) (0.9.0)\n",
            "Requirement already satisfied: googleapis-common-protos<2.0.dev0,>=1.56.2 in /usr/local/lib/python3.10/dist-packages (from google-api-core[grpc]!=2.0.*,!=2.1.*,!=2.2.*,!=2.3.*,!=2.4.*,!=2.5.*,!=2.6.*,!=2.7.*,<3.0.0dev,>=1.34.1->google-cloud-aiplatform>=1.44.0->log10-io) (1.63.0)\n",
            "Requirement already satisfied: grpcio<2.0dev,>=1.33.2 in /usr/local/lib/python3.10/dist-packages (from google-api-core[grpc]!=2.0.*,!=2.1.*,!=2.2.*,!=2.3.*,!=2.4.*,!=2.5.*,!=2.6.*,!=2.7.*,<3.0.0dev,>=1.34.1->google-cloud-aiplatform>=1.44.0->log10-io) (1.62.2)\n",
            "Requirement already satisfied: grpcio-status<2.0.dev0,>=1.33.2 in /usr/local/lib/python3.10/dist-packages (from google-api-core[grpc]!=2.0.*,!=2.1.*,!=2.2.*,!=2.3.*,!=2.4.*,!=2.5.*,!=2.6.*,!=2.7.*,<3.0.0dev,>=1.34.1->google-cloud-aiplatform>=1.44.0->log10-io) (1.48.2)\n",
            "Requirement already satisfied: cachetools<6.0,>=2.0.0 in /usr/local/lib/python3.10/dist-packages (from google-auth<3.0.0dev,>=2.14.1->google-cloud-aiplatform>=1.44.0->log10-io) (5.3.3)\n",
            "Requirement already satisfied: pyasn1-modules>=0.2.1 in /usr/local/lib/python3.10/dist-packages (from google-auth<3.0.0dev,>=2.14.1->google-cloud-aiplatform>=1.44.0->log10-io) (0.4.0)\n",
            "Requirement already satisfied: rsa<5,>=3.1.4 in /usr/local/lib/python3.10/dist-packages (from google-auth<3.0.0dev,>=2.14.1->google-cloud-aiplatform>=1.44.0->log10-io) (4.9)\n",
            "Requirement already satisfied: grpc-google-iam-v1<1.0.0dev,>=0.12.4 in /usr/local/lib/python3.10/dist-packages (from google-cloud-resource-manager<3.0.0dev,>=1.3.3->google-cloud-aiplatform>=1.44.0->log10-io) (0.13.0)\n",
            "Requirement already satisfied: google-crc32c<2.0dev,>=1.0 in /usr/local/lib/python3.10/dist-packages (from google-resumable-media<3.0dev,>=0.6.0->google-cloud-bigquery<4.0.0,>=3.11.4->log10-io) (1.5.0)\n",
            "Requirement already satisfied: graphql-core<3.3,>=3.2 in /usr/local/lib/python3.10/dist-packages (from gql[websockets]>=3.4.0->mosaicml-cli<0.6.0,>=0.5.30->log10-io) (3.2.3)\n",
            "Requirement already satisfied: websockets<12,>=10 in /usr/local/lib/python3.10/dist-packages (from gql[websockets]>=3.4.0->mosaicml-cli<0.6.0,>=0.5.30->log10-io) (11.0.3)\n",
            "Requirement already satisfied: httpcore==1.* in /usr/local/lib/python3.10/dist-packages (from httpx<1,>=0.23.0->anthropic<1->log10-io) (1.0.5)\n",
            "Requirement already satisfied: h11<0.15,>=0.13 in /usr/local/lib/python3.10/dist-packages (from httpcore==1.*->httpx<1,>=0.23.0->anthropic<1->log10-io) (0.14.0)\n",
            "Requirement already satisfied: jsonpointer>=1.9 in /usr/local/lib/python3.10/dist-packages (from jsonpatch<2.0,>=1.33->langchain<0.2.0->log10-io) (2.4)\n",
            "Requirement already satisfied: wcwidth in /usr/local/lib/python3.10/dist-packages (from prompt-toolkit>=3.0.29->mosaicml-cli<0.6.0,>=0.5.30->log10-io) (0.2.13)\n",
            "Requirement already satisfied: annotated-types>=0.4.0 in /usr/local/lib/python3.10/dist-packages (from pydantic<3,>=1.9.0->anthropic<1->log10-io) (0.6.0)\n",
            "Requirement already satisfied: pydantic-core==2.18.2 in /usr/local/lib/python3.10/dist-packages (from pydantic<3,>=1.9.0->anthropic<1->log10-io) (2.18.2)\n",
            "Requirement already satisfied: six>=1.5 in /usr/local/lib/python3.10/dist-packages (from python-dateutil>=2.4->faker<20.0.0,>=19.2.0->log10-io) (1.16.0)\n",
            "Requirement already satisfied: markdown-it-py>=2.2.0 in /usr/local/lib/python3.10/dist-packages (from rich>=12.6.0->mosaicml-cli<0.6.0,>=0.5.30->log10-io) (3.0.0)\n",
            "Requirement already satisfied: pygments<3.0.0,>=2.13.0 in /usr/local/lib/python3.10/dist-packages (from rich>=12.6.0->mosaicml-cli<0.6.0,>=0.5.30->log10-io) (2.16.1)\n",
            "Requirement already satisfied: ruamel.yaml.clib>=0.2.7 in /usr/local/lib/python3.10/dist-packages (from ruamel.yaml>=0.17.21->mosaicml-cli<0.6.0,>=0.5.30->log10-io) (0.2.8)\n",
            "Requirement already satisfied: greenlet!=0.4.17 in /usr/local/lib/python3.10/dist-packages (from SQLAlchemy<3,>=1.4->langchain<0.2.0->log10-io) (3.0.3)\n",
            "Requirement already satisfied: huggingface-hub<1.0,>=0.16.4 in /usr/local/lib/python3.10/dist-packages (from tokenizers>=0.13.0->anthropic<1->log10-io) (0.20.3)\n",
            "Requirement already satisfied: click<9.0.0,>=7.1.1 in /usr/local/lib/python3.10/dist-packages (from typer<0.10.0,>=0.9.0->together<0.3.0,>=0.2.7->log10-io) (8.1.7)\n",
            "Requirement already satisfied: azure-core<2.0.0,>=1.28.0 in /usr/local/lib/python3.10/dist-packages (from azure-storage-blob->lamini<3.0.0,>=2.1.8->log10-io) (1.30.1)\n",
            "Requirement already satisfied: cryptography>=2.1.4 in /usr/local/lib/python3.10/dist-packages (from azure-storage-blob->lamini<3.0.0,>=2.1.8->log10-io) (42.0.5)\n",
            "Requirement already satisfied: isodate>=0.6.1 in /usr/local/lib/python3.10/dist-packages (from azure-storage-blob->lamini<3.0.0,>=2.1.8->log10-io) (0.6.1)\n",
            "Requirement already satisfied: soupsieve>1.2 in /usr/local/lib/python3.10/dist-packages (from beautifulsoup4->wikipedia<2.0.0,>=1.4.0->log10-io) (2.5)\n",
            "Requirement already satisfied: scipy>=1.3.2 in /usr/local/lib/python3.10/dist-packages (from scikit-learn->lamini<3.0.0,>=2.1.8->log10-io) (1.11.4)\n",
            "Requirement already satisfied: joblib>=1.1.1 in /usr/local/lib/python3.10/dist-packages (from scikit-learn->lamini<3.0.0,>=2.1.8->log10-io) (1.4.0)\n",
            "Requirement already satisfied: threadpoolctl>=2.0.0 in /usr/local/lib/python3.10/dist-packages (from scikit-learn->lamini<3.0.0,>=2.1.8->log10-io) (3.4.0)\n",
            "Requirement already satisfied: cffi>=1.12 in /usr/local/lib/python3.10/dist-packages (from cryptography>=2.1.4->azure-storage-blob->lamini<3.0.0,>=2.1.8->log10-io) (1.16.0)\n",
            "Requirement already satisfied: filelock in /usr/local/lib/python3.10/dist-packages (from huggingface-hub<1.0,>=0.16.4->tokenizers>=0.13.0->anthropic<1->log10-io) (3.13.4)\n",
            "Requirement already satisfied: fsspec>=2023.5.0 in /usr/local/lib/python3.10/dist-packages (from huggingface-hub<1.0,>=0.16.4->tokenizers>=0.13.0->anthropic<1->log10-io) (2023.6.0)\n",
            "Requirement already satisfied: mdurl~=0.1 in /usr/local/lib/python3.10/dist-packages (from markdown-it-py>=2.2.0->rich>=12.6.0->mosaicml-cli<0.6.0,>=0.5.30->log10-io) (0.1.2)\n",
            "Requirement already satisfied: pyasn1<0.7.0,>=0.4.6 in /usr/local/lib/python3.10/dist-packages (from pyasn1-modules>=0.2.1->google-auth<3.0.0dev,>=2.14.1->google-cloud-aiplatform>=1.44.0->log10-io) (0.6.0)\n",
            "Requirement already satisfied: mypy-extensions>=0.3.0 in /usr/local/lib/python3.10/dist-packages (from typing-inspect<1,>=0.4.0->dataclasses-json<0.7,>=0.5.7->langchain<0.2.0->log10-io) (1.0.0)\n",
            "Requirement already satisfied: pycparser in /usr/local/lib/python3.10/dist-packages (from cffi>=1.12->cryptography>=2.1.4->azure-storage-blob->lamini<3.0.0,>=2.1.8->log10-io) (2.22)\n",
            "Collecting magentic\n",
            "  Using cached magentic-0.21.1-py3-none-any.whl (39 kB)\n",
            "Collecting filetype (from magentic)\n",
            "  Using cached filetype-1.2.0-py2.py3-none-any.whl (19 kB)\n",
            "Requirement already satisfied: openai>=1.0 in /usr/local/lib/python3.10/dist-packages (from magentic) (1.24.1)\n",
            "Requirement already satisfied: pydantic>=2.0.0 in /usr/local/lib/python3.10/dist-packages (from magentic) (2.7.1)\n",
            "Collecting pydantic-settings>=2.0.0 (from magentic)\n",
            "  Using cached pydantic_settings-2.2.1-py3-none-any.whl (13 kB)\n",
            "Requirement already satisfied: anyio<5,>=3.5.0 in /usr/local/lib/python3.10/dist-packages (from openai>=1.0->magentic) (3.7.1)\n",
            "Requirement already satisfied: distro<2,>=1.7.0 in /usr/lib/python3/dist-packages (from openai>=1.0->magentic) (1.7.0)\n",
            "Requirement already satisfied: httpx<1,>=0.23.0 in /usr/local/lib/python3.10/dist-packages (from openai>=1.0->magentic) (0.25.2)\n",
            "Requirement already satisfied: sniffio in /usr/local/lib/python3.10/dist-packages (from openai>=1.0->magentic) (1.3.1)\n",
            "Requirement already satisfied: tqdm>4 in /usr/local/lib/python3.10/dist-packages (from openai>=1.0->magentic) (4.66.2)\n",
            "Requirement already satisfied: typing-extensions<5,>=4.7 in /usr/local/lib/python3.10/dist-packages (from openai>=1.0->magentic) (4.11.0)\n",
            "Requirement already satisfied: annotated-types>=0.4.0 in /usr/local/lib/python3.10/dist-packages (from pydantic>=2.0.0->magentic) (0.6.0)\n",
            "Requirement already satisfied: pydantic-core==2.18.2 in /usr/local/lib/python3.10/dist-packages (from pydantic>=2.0.0->magentic) (2.18.2)\n",
            "Requirement already satisfied: python-dotenv>=0.21.0 in /usr/local/lib/python3.10/dist-packages (from pydantic-settings>=2.0.0->magentic) (1.0.1)\n",
            "Requirement already satisfied: idna>=2.8 in /usr/local/lib/python3.10/dist-packages (from anyio<5,>=3.5.0->openai>=1.0->magentic) (3.7)\n",
            "Requirement already satisfied: exceptiongroup in /usr/local/lib/python3.10/dist-packages (from anyio<5,>=3.5.0->openai>=1.0->magentic) (1.2.1)\n",
            "Requirement already satisfied: certifi in /usr/local/lib/python3.10/dist-packages (from httpx<1,>=0.23.0->openai>=1.0->magentic) (2024.2.2)\n",
            "Requirement already satisfied: httpcore==1.* in /usr/local/lib/python3.10/dist-packages (from httpx<1,>=0.23.0->openai>=1.0->magentic) (1.0.5)\n",
            "Requirement already satisfied: h11<0.15,>=0.13 in /usr/local/lib/python3.10/dist-packages (from httpcore==1.*->httpx<1,>=0.23.0->openai>=1.0->magentic) (0.14.0)\n",
            "Installing collected packages: filetype, pydantic-settings, magentic\n",
            "Successfully installed filetype-1.2.0 magentic-0.21.1 pydantic-settings-2.2.1\n"
          ]
        }
      ],
      "source": [
        "!pip install openai\n",
        "!pip install -U log10-io\n",
        "!pip install magentic"
      ]
    },
    {
      "cell_type": "markdown",
      "metadata": {
        "id": "YE13OiXskxPd"
      },
      "source": [
        "### Set up env vars"
      ]
    },
    {
      "cell_type": "code",
      "execution_count": 2,
      "metadata": {
        "id": "APG1v0k9wkxe"
      },
      "outputs": [],
      "source": [
        "import os\n",
        "os.environ[\"OPENAI_API_KEY\"] = \"\" #replace with your key\n",
        "\n",
        "os.environ[\"LOG10_URL\"]=\"https://log10.io\"\n",
        "os.environ[\"LOG10_ORG_ID\"]=\"\"  #replace with your credentials from Log10\n",
        "os.environ[\"LOG10_TOKEN\"]=\"\"  #replace with your token from Log10"
      ]
    },
    {
      "cell_type": "code",
      "execution_count": 3,
      "metadata": {
        "id": "Mt3wC8uf9Uyu"
      },
      "outputs": [],
      "source": [
        "import asyncio\n",
        "import openai\n",
        "from magentic import AsyncStreamedStr, prompt\n",
        "import uuid\n",
        "\n",
        "from log10.load import log10, log10_session\n",
        "log10(openai)\n",
        "\n",
        "# Tag selector below is used for:\n",
        "# 1) Selecting which logs to show in the Feedback inbox in the GUI\n",
        "# 2) Tagging new logs/completions to attach feedback to\n",
        "task_tag_selector = \"twain-SDK-test4\""
      ]
    },
    {
      "cell_type": "markdown",
      "metadata": {
        "id": "dKv9p_DYlKrV"
      },
      "source": [
        "## Create task"
      ]
    },
    {
      "cell_type": "code",
      "execution_count": 4,
      "metadata": {
        "id": "vDo1aG9wRS4P"
      },
      "outputs": [],
      "source": [
        "from log10.feedback.feedback import Feedback\n",
        "from log10.feedback.feedback_task import FeedbackTask\n",
        "\n",
        "task = FeedbackTask().create(\n",
        "    name=\"TASK_NAME:\" + task_tag_selector,\n",
        "    task_schema={\n",
        "    \"$schema\": \"http://json-schema.org/draft-07/schema#\",\n",
        "    \"title\": \"How well does the generated text satisfy user's requirements\",\n",
        "    \"description\": \"Schema for positive, neutral or negative feedback\",\n",
        "    \"type\": \"object\",\n",
        "    \"properties\": {\n",
        "      \"CHANNEL Email\": {\n",
        "        \"type\": \"string\",\n",
        "        \"enum\": [\n",
        "          \"😀\",\n",
        "          \"😐\",\n",
        "          \"😫\",\n",
        "          \"N/A\"\n",
        "        ],\n",
        "        \"description\": \"How well does generation adhere to the Email channel?\"\n",
        "      },\n",
        "      \"CHANNEL LinkedIn\": {\n",
        "          \"type\": \"string\",\n",
        "          \"enum\": [\n",
        "            \"😀\",\n",
        "            \"😐\",\n",
        "            \"😫\",\n",
        "            \"N/A\"\n",
        "          ],\n",
        "          \"description\": \"How well does generation adhere to the LinkedIn channel?\"\n",
        "    },\n",
        "      \"USE CASE Connect request\": {\n",
        "        \"type\": \"string\",\n",
        "        \"enum\": [\n",
        "          \"😀\",\n",
        "          \"😐\",\n",
        "          \"😫\",\n",
        "          \"N/A\"\n",
        "        ],\n",
        "        \"description\": \"How well does generation adhere to the connect request use case?\"\n",
        "    },\n",
        "    \"USE CASE Introduction\": {\n",
        "        \"type\": \"string\",\n",
        "        \"enum\": [\n",
        "          \"😀\",\n",
        "          \"😐\",\n",
        "          \"😫\",\n",
        "          \"N/A\"\n",
        "        ],\n",
        "        \"description\": \"How well does generation adhere to the introduction use case?\"\n",
        "    },\n",
        "    \"USE CASE Reply\": {\n",
        "        \"type\": \"string\",\n",
        "        \"enum\": [\n",
        "          \"😀\",\n",
        "          \"😐\",\n",
        "          \"😫\",\n",
        "          \"N/A\"\n",
        "        ],\n",
        "        \"description\": \"How well does generation adhere to the reply use case?\"\n",
        "    },\n",
        "    \"USE CASE Follow up\": {\n",
        "        \"type\": \"string\",\n",
        "        \"enum\": [\n",
        "          \"😀\",\n",
        "          \"😐\",\n",
        "          \"😫\",\n",
        "          \"N/A\"\n",
        "        ],\n",
        "        \"description\": \"How well does generation adhere to the follow up use case?\"\n",
        "    },\n",
        "    \"GOAL Check relevancy\": {\n",
        "        \"type\": \"string\",\n",
        "        \"enum\": [\n",
        "          \"😀\",\n",
        "          \"😐\",\n",
        "          \"😫\",\n",
        "          \"N/A\"\n",
        "        ],\n",
        "        \"description\": \"How well does generation adhere to the goal of check relevancy?\"\n",
        "    },\n",
        "    \"GOAL Book a call\": {\n",
        "        \"type\": \"string\",\n",
        "        \"enum\": [\n",
        "          \"😀\",\n",
        "          \"😐\",\n",
        "          \"😫\",\n",
        "          \"N/A\"\n",
        "        ],\n",
        "        \"description\": \"How well does generation adhere to the goal of booking a call?\"\n",
        "    },\n",
        "    \"GOAL Create Interest\": {\n",
        "        \"type\": \"string\",\n",
        "        \"enum\": [\n",
        "          \"😀\",\n",
        "          \"😐\",\n",
        "          \"😫\",\n",
        "          \"N/A\"\n",
        "        ],\n",
        "        \"description\": \"How well does generation adhere to the goal of create interest?\"\n",
        "    },\n",
        "    \"TONE Informal\": {\n",
        "        \"type\": \"string\",\n",
        "        \"enum\": [\n",
        "          \"😀\",\n",
        "          \"😐\",\n",
        "          \"😫\",\n",
        "          \"N/A\"\n",
        "        ],\n",
        "        \"description\": \"How well does generation adhere to the informal tone?\"\n",
        "    },\n",
        "    \"TONE Direct\": {\n",
        "        \"type\": \"string\",\n",
        "        \"enum\": [\n",
        "          \"😀\",\n",
        "          \"😐\",\n",
        "          \"😫\",\n",
        "          \"N/A\"\n",
        "        ],\n",
        "        \"description\": \"How well does generation adhere to the direct tone?\"\n",
        "    },\n",
        "    \"TONE Creative\": {\n",
        "        \"type\": \"string\",\n",
        "        \"enum\": [\n",
        "          \"😀\",\n",
        "          \"😐\",\n",
        "          \"😫\",\n",
        "          \"N/A\"\n",
        "        ],\n",
        "        \"description\": \"How well does generation adhere to the creative tone?\"\n",
        "    },\n",
        "    \"TONE Bold\": {\n",
        "        \"type\": \"string\",\n",
        "        \"enum\": [\n",
        "          \"😀\",\n",
        "          \"😐\",\n",
        "          \"😫\",\n",
        "          \"N/A\"\n",
        "        ],\n",
        "        \"description\": \"How well does generation adhere to the bold tone?\"\n",
        "    }\n",
        "  }\n",
        "},\n",
        "    completion_tags_selector=[task_tag_selector], # 1) Selecting which logs to show in the Feedback inbox in the GUI\n",
        "    instruction=\"Please specify how well the generated text satisfies the relevant user selected criteria?\",\n",
        ")"
      ]
    },
    {
      "cell_type": "markdown",
      "metadata": {
        "id": "UcJkfN4BlP9_"
      },
      "source": [
        "### Test prompt for generative writing use case"
      ]
    },
    {
      "cell_type": "code",
      "execution_count": 5,
      "metadata": {
        "id": "JjuPlZXwrlNp"
      },
      "outputs": [],
      "source": [
        "@prompt(\"Create a outbound sales message for {channel} for {use_case} with the goal of {goal}. \\\n",
        "The tone should be {tone}. The company name is {company_name}. \\\n",
        "The problem they are tacking is {problem}. \\\n",
        "Their solution is {solution}. \\\n",
        "The results you can expect are {results}.\\\n",
        "Remember LinkedIn connection requests need to be 300 chars or shorter.\")\n",
        "async def create_message(channel: str, use_case: str, goal: str, tone: str,\n",
        "                         company_name: str, problem: str, solution: str,\n",
        "                         results: str) -> AsyncStreamedStr:  # ruff: ignore\n",
        "  ...\n"
      ]
    },
    {
      "cell_type": "markdown",
      "metadata": {
        "id": "zvl2jjqKl3DN"
      },
      "source": [
        "## Generate Example 1"
      ]
    },
    {
      "cell_type": "code",
      "execution_count": 6,
      "metadata": {
        "colab": {
          "base_uri": "https://localhost:8080/"
        },
        "id": "cr89Fmpjf2Ph",
        "outputId": "b74bc2b2-ad33-49b3-c77f-5aa947ae55c8"
      },
      "outputs": [
        {
          "name": "stdout",
          "output_type": "stream",
          "text": [
            "Subject: Boost Your LLM App’s Accuracy\n",
            "\n",
            "Hi [Name], \n",
            "\n",
            "I'm with Log10, where we enhance LLM apps’ accuracy by 10-20 F1 points, overcoming common adoption barriers due to inaccuracies. Let’s discuss how we can elevate your app’s performance. Can we book a call this week?\n",
            "\n",
            "Best, [Your Name]"
          ]
        }
      ],
      "source": [
        "uuid_str = str(uuid.uuid4())\n",
        "\n",
        "async def main():\n",
        "  # Example 1\n",
        "  channel = \"LinkedIn\"\n",
        "  use_case = \"Connection request\"\n",
        "  goal = \"Book a call\"\n",
        "  tone = \"Direct\"\n",
        "  company_name = \"Log10\"\n",
        "  problem = \"Currently most LLM apps are inaccurate limiting user adoption\"\n",
        "  solution = \"We help you measure and improve accuracy of LLM apps\"\n",
        "  results = \"Improve accuracy by 10-20 F1 points\"\n",
        "\n",
        "\n",
        "  with log10_session(tags=[task_tag_selector, channel, use_case, goal, tone, uuid_str,\n",
        "                           \"problem: \"+ problem, \"solution: \"+solution,\n",
        "                           \"results: \"+results]): # assigning metadata as tags can be useful in having relevant info on hand to help with the review in the UI\n",
        "      output = await create_message(channel, use_case, goal, tone, company_name,\n",
        "                                    problem, solution, results)\n",
        "      async for chunk in output:\n",
        "          print(chunk, end=\"\", flush=True)\n",
        "\n",
        "\n",
        "await main()"
      ]
    },
    {
      "cell_type": "markdown",
      "metadata": {
        "id": "kxfLMaM3l6S3"
      },
      "source": [
        "### Assign Feedback on Example 1 via SDK/API"
      ]
    },
    {
      "cell_type": "code",
      "execution_count": 7,
      "metadata": {
        "colab": {
          "base_uri": "https://localhost:8080/"
        },
        "id": "TB0rF4bpTTW5",
        "outputId": "ca7296fe-990b-4c60-8423-8a9037655b68"
      },
      "outputs": [
        {
          "data": {
            "text/plain": [
              "<Response [200 OK]>"
            ]
          },
          "execution_count": 7,
          "metadata": {},
          "output_type": "execute_result"
        }
      ],
      "source": [
        "task_id = task.json()[\"id\"]\n",
        "\n",
        "Feedback().create(\n",
        "    task_id=task_id,\n",
        "    values={\n",
        "        \"TONE Bold\":\"😀\",\n",
        "        \"TONE Creative\":\"😫\",\n",
        "        },\n",
        "    completion_tags_selector=[uuid_str, task_tag_selector], # 2) Tagging new logs/completions to attach feedback to\n",
        ")"
      ]
    },
    {
      "cell_type": "markdown",
      "metadata": {
        "id": "YrkNuOl_l_q1"
      },
      "source": [
        "## Generate Example 2"
      ]
    },
    {
      "cell_type": "code",
      "execution_count": 8,
      "metadata": {
        "colab": {
          "base_uri": "https://localhost:8080/"
        },
        "id": "AmGe_R95f3qn",
        "outputId": "4f5d3f48-654b-4726-bef2-2fe5682212a6"
      },
      "outputs": [
        {
          "name": "stdout",
          "output_type": "stream",
          "text": [
            "Subject: 🚀 Elevate Your LLM Apps with Precision—Let's Chat!\n",
            "\n",
            "Hi [Recipient’s Name],\n",
            "\n",
            "I'm reaching out from Log10, where we've cracked the code on enhancing LLM app accuracy—a challenge I notice many face in the tech sphere!\n",
            "\n",
            "Have you ever imagined boosting your app’s accuracy by 10-20 F1 points? That's exactly what we offer. Let’s explore how Log10 can turn this into reality for your projects, ensuring better adoption and user satisfaction.\n",
            "\n",
            "Keen to learn more? Let’s schedule a quick call to dive deeper!\n",
            "\n",
            "Best,\n",
            "[Your Name]"
          ]
        }
      ],
      "source": [
        "uuid_str = str(uuid.uuid4())\n",
        "\n",
        "async def main():\n",
        "  # Example 2\n",
        "  channel = \"Email\"\n",
        "  use_case = \"Introduction\"\n",
        "  goal = \"Create interest\"\n",
        "  tone = \"Creative\"\n",
        "  company_name = \"Log10\"\n",
        "  problem = \"Currently most LLM apps are inaccurate limiting user adoption\"\n",
        "  solution = \"We help you measure and improve accuracy of LLM apps\"\n",
        "  results = \"Improve accuracy by 10-20 F1 points\"\n",
        "\n",
        "\n",
        "  with log10_session(tags=[task_tag_selector, channel, use_case, goal, tone, uuid_str,\n",
        "                           \"problem: \"+ problem, \"solution: \"+solution,\n",
        "                           \"results: \"+results]):\n",
        "      output = await create_message(channel, use_case, goal, tone, company_name,\n",
        "                                    problem, solution, results)\n",
        "      async for chunk in output:\n",
        "          print(chunk, end=\"\", flush=True)\n",
        "\n",
        "\n",
        "await main()"
      ]
    },
    {
      "cell_type": "markdown",
      "metadata": {
        "id": "Gd_k2XOjcsrM"
      },
      "source": [
        "### Assign Feedback via the UI\n",
        "1. Log in to your log10.io account\n",
        "2. Navigate to the Feedback tab in the left side panel\n",
        "3. You should see the above example in the inbox. Click on it to assign feedback via the UI"
      ]
    },
    {
      "cell_type": "markdown",
      "metadata": {
        "id": "E_czbyn3dyUM"
      },
      "source": [
        "## Talk to us / Coming soon\n",
        "1. Use Log10's AutoFeedback to automatically assign feedback to new generations from the LLM\n",
        "2. Get summary stats over feedback (human + AutoFeedback)\n",
        "3. Set up alerts over AutoFeedback\n",
        "4. Curate datasets for fine-tuning or prompt engineering to improve accuracy and customize per customer"
      ]
    }
  ],
  "metadata": {
    "colab": {
      "provenance": [],
      "toc_visible": true
    },
    "kernelspec": {
      "display_name": "Python 3",
      "name": "python3"
    },
    "language_info": {
      "name": "python"
    }
  },
  "nbformat": 4,
  "nbformat_minor": 0
}
